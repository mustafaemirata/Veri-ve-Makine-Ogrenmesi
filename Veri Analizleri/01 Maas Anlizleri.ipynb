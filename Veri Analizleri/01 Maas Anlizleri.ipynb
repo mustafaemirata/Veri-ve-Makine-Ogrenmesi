{
 "cells": [
  {
   "cell_type": "markdown",
   "id": "da270d64",
   "metadata": {},
   "source": [
    "## Maaş Analizleri"
   ]
  },
  {
   "cell_type": "code",
   "execution_count": 3,
   "id": "fc034fec",
   "metadata": {},
   "outputs": [],
   "source": [
    "import pandas as pd\n",
    "import numpy as np\n",
    "import matplotlib as plt\n",
    "import seaborn as sns"
   ]
  },
  {
   "cell_type": "code",
   "execution_count": 4,
   "id": "0a4474bc",
   "metadata": {},
   "outputs": [],
   "source": [
    "df=pd.read_csv(\"salaries_clean.csv\",encoding=\"latin-1\")"
   ]
  },
  {
   "cell_type": "code",
   "execution_count": 5,
   "id": "92b0cf01",
   "metadata": {},
   "outputs": [
    {
     "data": {
      "application/vnd.microsoft.datawrangler.viewer.v0+json": {
       "columns": [
        {
         "name": "index",
         "rawType": "int64",
         "type": "integer"
        },
        {
         "name": "salary_id",
         "rawType": "int64",
         "type": "integer"
        },
        {
         "name": "employer_name",
         "rawType": "object",
         "type": "string"
        },
        {
         "name": "location_name",
         "rawType": "object",
         "type": "string"
        },
        {
         "name": "location_state",
         "rawType": "object",
         "type": "unknown"
        },
        {
         "name": "location_country",
         "rawType": "object",
         "type": "unknown"
        },
        {
         "name": "location_latitude",
         "rawType": "float64",
         "type": "float"
        },
        {
         "name": "location_longitude",
         "rawType": "float64",
         "type": "float"
        },
        {
         "name": "job_title",
         "rawType": "object",
         "type": "string"
        },
        {
         "name": "job_title_category",
         "rawType": "object",
         "type": "string"
        },
        {
         "name": "job_title_rank",
         "rawType": "object",
         "type": "unknown"
        },
        {
         "name": "total_experience_years",
         "rawType": "float64",
         "type": "float"
        },
        {
         "name": "employer_experience_years",
         "rawType": "float64",
         "type": "float"
        },
        {
         "name": "annual_base_pay",
         "rawType": "float64",
         "type": "float"
        },
        {
         "name": "signing_bonus",
         "rawType": "float64",
         "type": "float"
        },
        {
         "name": "annual_bonus",
         "rawType": "float64",
         "type": "float"
        },
        {
         "name": "stock_value_bonus",
         "rawType": "object",
         "type": "string"
        },
        {
         "name": "comments",
         "rawType": "object",
         "type": "unknown"
        },
        {
         "name": "submitted_at",
         "rawType": "object",
         "type": "string"
        }
       ],
       "conversionMethod": "pd.DataFrame",
       "ref": "1c389269-37de-4de7-a0ce-ab45ad3fe78d",
       "rows": [
        [
         "0",
         "1",
         "opower",
         "san francisco, ca",
         "CA",
         "US",
         "37.77",
         "-122.41",
         "systems engineer",
         "Engineering",
         null,
         "13.0",
         "2.0",
         "125000.0",
         "5000.0",
         "0.0",
         "5000 shares",
         "Don't work here.",
         "3/21/16 12:58"
        ],
        [
         "1",
         "3",
         "walmart",
         "bentonville, ar",
         "AR",
         "US",
         "36.36",
         "-94.2",
         "senior developer",
         "Software",
         "Senior",
         "15.0",
         "8.0",
         "65000.0",
         null,
         "5000.0",
         "3,000",
         null,
         "3/21/16 12:58"
        ],
        [
         "2",
         "4",
         "vertical knowledge",
         "cleveland, oh",
         "OH",
         "US",
         "41.47",
         "-81.67",
         "software engineer",
         "Software",
         null,
         "4.0",
         "1.0",
         "86000.0",
         "5000.0",
         "6000.0",
         "0",
         null,
         "3/21/16 12:59"
        ],
        [
         "3",
         "6",
         "netapp",
         "waltham",
         null,
         null,
         null,
         null,
         "mts",
         "Other",
         null,
         "4.0",
         "0.0",
         "105000.0",
         "5000.0",
         "8500.0",
         "0",
         null,
         "3/21/16 13:00"
        ],
        [
         "4",
         "12",
         "apple",
         "cupertino",
         null,
         null,
         null,
         null,
         "software engineer",
         "Software",
         null,
         "4.0",
         "3.0",
         "110000.0",
         "5000.0",
         "7000.0",
         "150000",
         null,
         "3/21/16 13:02"
        ]
       ],
       "shape": {
        "columns": 18,
        "rows": 5
       }
      },
      "text/html": [
       "<div>\n",
       "<style scoped>\n",
       "    .dataframe tbody tr th:only-of-type {\n",
       "        vertical-align: middle;\n",
       "    }\n",
       "\n",
       "    .dataframe tbody tr th {\n",
       "        vertical-align: top;\n",
       "    }\n",
       "\n",
       "    .dataframe thead th {\n",
       "        text-align: right;\n",
       "    }\n",
       "</style>\n",
       "<table border=\"1\" class=\"dataframe\">\n",
       "  <thead>\n",
       "    <tr style=\"text-align: right;\">\n",
       "      <th></th>\n",
       "      <th>salary_id</th>\n",
       "      <th>employer_name</th>\n",
       "      <th>location_name</th>\n",
       "      <th>location_state</th>\n",
       "      <th>location_country</th>\n",
       "      <th>location_latitude</th>\n",
       "      <th>location_longitude</th>\n",
       "      <th>job_title</th>\n",
       "      <th>job_title_category</th>\n",
       "      <th>job_title_rank</th>\n",
       "      <th>total_experience_years</th>\n",
       "      <th>employer_experience_years</th>\n",
       "      <th>annual_base_pay</th>\n",
       "      <th>signing_bonus</th>\n",
       "      <th>annual_bonus</th>\n",
       "      <th>stock_value_bonus</th>\n",
       "      <th>comments</th>\n",
       "      <th>submitted_at</th>\n",
       "    </tr>\n",
       "  </thead>\n",
       "  <tbody>\n",
       "    <tr>\n",
       "      <th>0</th>\n",
       "      <td>1</td>\n",
       "      <td>opower</td>\n",
       "      <td>san francisco, ca</td>\n",
       "      <td>CA</td>\n",
       "      <td>US</td>\n",
       "      <td>37.77</td>\n",
       "      <td>-122.41</td>\n",
       "      <td>systems engineer</td>\n",
       "      <td>Engineering</td>\n",
       "      <td>NaN</td>\n",
       "      <td>13.0</td>\n",
       "      <td>2.0</td>\n",
       "      <td>125000.0</td>\n",
       "      <td>5000.0</td>\n",
       "      <td>0.0</td>\n",
       "      <td>5000 shares</td>\n",
       "      <td>Don't work here.</td>\n",
       "      <td>3/21/16 12:58</td>\n",
       "    </tr>\n",
       "    <tr>\n",
       "      <th>1</th>\n",
       "      <td>3</td>\n",
       "      <td>walmart</td>\n",
       "      <td>bentonville, ar</td>\n",
       "      <td>AR</td>\n",
       "      <td>US</td>\n",
       "      <td>36.36</td>\n",
       "      <td>-94.20</td>\n",
       "      <td>senior developer</td>\n",
       "      <td>Software</td>\n",
       "      <td>Senior</td>\n",
       "      <td>15.0</td>\n",
       "      <td>8.0</td>\n",
       "      <td>65000.0</td>\n",
       "      <td>NaN</td>\n",
       "      <td>5000.0</td>\n",
       "      <td>3,000</td>\n",
       "      <td>NaN</td>\n",
       "      <td>3/21/16 12:58</td>\n",
       "    </tr>\n",
       "    <tr>\n",
       "      <th>2</th>\n",
       "      <td>4</td>\n",
       "      <td>vertical knowledge</td>\n",
       "      <td>cleveland, oh</td>\n",
       "      <td>OH</td>\n",
       "      <td>US</td>\n",
       "      <td>41.47</td>\n",
       "      <td>-81.67</td>\n",
       "      <td>software engineer</td>\n",
       "      <td>Software</td>\n",
       "      <td>NaN</td>\n",
       "      <td>4.0</td>\n",
       "      <td>1.0</td>\n",
       "      <td>86000.0</td>\n",
       "      <td>5000.0</td>\n",
       "      <td>6000.0</td>\n",
       "      <td>0</td>\n",
       "      <td>NaN</td>\n",
       "      <td>3/21/16 12:59</td>\n",
       "    </tr>\n",
       "    <tr>\n",
       "      <th>3</th>\n",
       "      <td>6</td>\n",
       "      <td>netapp</td>\n",
       "      <td>waltham</td>\n",
       "      <td>NaN</td>\n",
       "      <td>NaN</td>\n",
       "      <td>NaN</td>\n",
       "      <td>NaN</td>\n",
       "      <td>mts</td>\n",
       "      <td>Other</td>\n",
       "      <td>NaN</td>\n",
       "      <td>4.0</td>\n",
       "      <td>0.0</td>\n",
       "      <td>105000.0</td>\n",
       "      <td>5000.0</td>\n",
       "      <td>8500.0</td>\n",
       "      <td>0</td>\n",
       "      <td>NaN</td>\n",
       "      <td>3/21/16 13:00</td>\n",
       "    </tr>\n",
       "    <tr>\n",
       "      <th>4</th>\n",
       "      <td>12</td>\n",
       "      <td>apple</td>\n",
       "      <td>cupertino</td>\n",
       "      <td>NaN</td>\n",
       "      <td>NaN</td>\n",
       "      <td>NaN</td>\n",
       "      <td>NaN</td>\n",
       "      <td>software engineer</td>\n",
       "      <td>Software</td>\n",
       "      <td>NaN</td>\n",
       "      <td>4.0</td>\n",
       "      <td>3.0</td>\n",
       "      <td>110000.0</td>\n",
       "      <td>5000.0</td>\n",
       "      <td>7000.0</td>\n",
       "      <td>150000</td>\n",
       "      <td>NaN</td>\n",
       "      <td>3/21/16 13:02</td>\n",
       "    </tr>\n",
       "  </tbody>\n",
       "</table>\n",
       "</div>"
      ],
      "text/plain": [
       "   salary_id       employer_name      location_name location_state  \\\n",
       "0          1              opower  san francisco, ca             CA   \n",
       "1          3             walmart    bentonville, ar             AR   \n",
       "2          4  vertical knowledge      cleveland, oh             OH   \n",
       "3          6              netapp            waltham            NaN   \n",
       "4         12               apple          cupertino            NaN   \n",
       "\n",
       "  location_country  location_latitude  location_longitude          job_title  \\\n",
       "0               US              37.77             -122.41   systems engineer   \n",
       "1               US              36.36              -94.20   senior developer   \n",
       "2               US              41.47              -81.67  software engineer   \n",
       "3              NaN                NaN                 NaN                mts   \n",
       "4              NaN                NaN                 NaN  software engineer   \n",
       "\n",
       "  job_title_category job_title_rank  total_experience_years  \\\n",
       "0        Engineering            NaN                    13.0   \n",
       "1           Software         Senior                    15.0   \n",
       "2           Software            NaN                     4.0   \n",
       "3              Other            NaN                     4.0   \n",
       "4           Software            NaN                     4.0   \n",
       "\n",
       "   employer_experience_years  annual_base_pay  signing_bonus  annual_bonus  \\\n",
       "0                        2.0         125000.0         5000.0           0.0   \n",
       "1                        8.0          65000.0            NaN        5000.0   \n",
       "2                        1.0          86000.0         5000.0        6000.0   \n",
       "3                        0.0         105000.0         5000.0        8500.0   \n",
       "4                        3.0         110000.0         5000.0        7000.0   \n",
       "\n",
       "  stock_value_bonus          comments   submitted_at  \n",
       "0       5000 shares  Don't work here.  3/21/16 12:58  \n",
       "1             3,000               NaN  3/21/16 12:58  \n",
       "2                 0               NaN  3/21/16 12:59  \n",
       "3                 0               NaN  3/21/16 13:00  \n",
       "4            150000               NaN  3/21/16 13:02  "
      ]
     },
     "execution_count": 5,
     "metadata": {},
     "output_type": "execute_result"
    }
   ],
   "source": [
    "df.head()"
   ]
  },
  {
   "cell_type": "code",
   "execution_count": 6,
   "id": "ce9de765",
   "metadata": {},
   "outputs": [
    {
     "name": "stdout",
     "output_type": "stream",
     "text": [
      "<class 'pandas.core.frame.DataFrame'>\n",
      "RangeIndex: 1655 entries, 0 to 1654\n",
      "Data columns (total 18 columns):\n",
      " #   Column                     Non-Null Count  Dtype  \n",
      "---  ------                     --------------  -----  \n",
      " 0   salary_id                  1655 non-null   int64  \n",
      " 1   employer_name              1651 non-null   object \n",
      " 2   location_name              1655 non-null   object \n",
      " 3   location_state             558 non-null    object \n",
      " 4   location_country           792 non-null    object \n",
      " 5   location_latitude          792 non-null    float64\n",
      " 6   location_longitude         792 non-null    float64\n",
      " 7   job_title                  1655 non-null   object \n",
      " 8   job_title_category         1655 non-null   object \n",
      " 9   job_title_rank             425 non-null    object \n",
      " 10  total_experience_years     1608 non-null   float64\n",
      " 11  employer_experience_years  1608 non-null   float64\n",
      " 12  annual_base_pay            1651 non-null   float64\n",
      " 13  signing_bonus              1332 non-null   float64\n",
      " 14  annual_bonus               1336 non-null   float64\n",
      " 15  stock_value_bonus          1246 non-null   object \n",
      " 16  comments                   292 non-null    object \n",
      " 17  submitted_at               1655 non-null   object \n",
      "dtypes: float64(7), int64(1), object(10)\n",
      "memory usage: 232.9+ KB\n"
     ]
    }
   ],
   "source": [
    "df.info()"
   ]
  },
  {
   "cell_type": "code",
   "execution_count": 7,
   "id": "14de6fd5",
   "metadata": {},
   "outputs": [
    {
     "data": {
      "text/plain": [
       "1655"
      ]
     },
     "execution_count": 7,
     "metadata": {},
     "output_type": "execute_result"
    }
   ],
   "source": [
    "len(df)"
   ]
  },
  {
   "cell_type": "code",
   "execution_count": 8,
   "id": "3e79a6f4",
   "metadata": {},
   "outputs": [
    {
     "name": "stdout",
     "output_type": "stream",
     "text": [
      "Empty Values % 25\n"
     ]
    }
   ],
   "source": [
    "print(\"Empty Values %\",round(df.isnull().sum().sum()/(len(df)*len(df.columns))*100,))"
   ]
  },
  {
   "cell_type": "code",
   "execution_count": 9,
   "id": "7daff3fa",
   "metadata": {},
   "outputs": [
    {
     "data": {
      "application/vnd.microsoft.datawrangler.viewer.v0+json": {
       "columns": [
        {
         "name": "index",
         "rawType": "object",
         "type": "string"
        },
        {
         "name": "salary_id",
         "rawType": "float64",
         "type": "float"
        },
        {
         "name": "location_latitude",
         "rawType": "float64",
         "type": "float"
        },
        {
         "name": "location_longitude",
         "rawType": "float64",
         "type": "float"
        },
        {
         "name": "total_experience_years",
         "rawType": "float64",
         "type": "float"
        },
        {
         "name": "employer_experience_years",
         "rawType": "float64",
         "type": "float"
        },
        {
         "name": "annual_base_pay",
         "rawType": "float64",
         "type": "float"
        },
        {
         "name": "signing_bonus",
         "rawType": "float64",
         "type": "float"
        },
        {
         "name": "annual_bonus",
         "rawType": "float64",
         "type": "float"
        }
       ],
       "conversionMethod": "pd.DataFrame",
       "ref": "00c41eda-87a5-49d8-87a4-220f154fa5d1",
       "rows": [
        [
         "count",
         "1655.0",
         "792.0",
         "792.0",
         "1608.0",
         "1608.0",
         "1651.0",
         "1332.0",
         "1336.0"
        ],
        [
         "mean",
         "1684.100906344411",
         "37.754393939393935",
         "-64.71227272727273",
         "6.756113184079602",
         "2.656162935323383",
         "6325003.746965475",
         "22405.62687687688",
         "11775.524700598802"
        ],
        [
         "std",
         "932.9013901358694",
         "16.740905295869556",
         "67.09036375938594",
         "5.687004356291266",
         "3.3018337031006766",
         "246135276.8213926",
         "309799.0058985045",
         "69215.69452631442"
        ],
        [
         "min",
         "1.0",
         "-41.0",
         "-123.27",
         "0.0",
         "0.0",
         "0.0",
         "0.0",
         "0.0"
        ],
        [
         "25%",
         "897.0",
         "37.41",
         "-102.7025",
         "3.0",
         "1.0",
         "61000.0",
         "0.0",
         "0.0"
        ],
        [
         "50%",
         "1711.0",
         "38.58",
         "-95.0",
         "5.0",
         "2.0",
         "99480.0",
         "0.0",
         "500.0"
        ],
        [
         "75%",
         "2477.0",
         "45.44",
         "-64.5625",
         "10.0",
         "3.0",
         "130000.0",
         "5000.0",
         "10000.0"
        ],
        [
         "max",
         "3298.0",
         "65.0",
         "174.0",
         "56.0",
         "58.0",
         "9999999999.0",
         "8999999.0",
         "2000000.0"
        ]
       ],
       "shape": {
        "columns": 8,
        "rows": 8
       }
      },
      "text/html": [
       "<div>\n",
       "<style scoped>\n",
       "    .dataframe tbody tr th:only-of-type {\n",
       "        vertical-align: middle;\n",
       "    }\n",
       "\n",
       "    .dataframe tbody tr th {\n",
       "        vertical-align: top;\n",
       "    }\n",
       "\n",
       "    .dataframe thead th {\n",
       "        text-align: right;\n",
       "    }\n",
       "</style>\n",
       "<table border=\"1\" class=\"dataframe\">\n",
       "  <thead>\n",
       "    <tr style=\"text-align: right;\">\n",
       "      <th></th>\n",
       "      <th>salary_id</th>\n",
       "      <th>location_latitude</th>\n",
       "      <th>location_longitude</th>\n",
       "      <th>total_experience_years</th>\n",
       "      <th>employer_experience_years</th>\n",
       "      <th>annual_base_pay</th>\n",
       "      <th>signing_bonus</th>\n",
       "      <th>annual_bonus</th>\n",
       "    </tr>\n",
       "  </thead>\n",
       "  <tbody>\n",
       "    <tr>\n",
       "      <th>count</th>\n",
       "      <td>1655.000000</td>\n",
       "      <td>792.000000</td>\n",
       "      <td>792.000000</td>\n",
       "      <td>1608.000000</td>\n",
       "      <td>1608.000000</td>\n",
       "      <td>1.651000e+03</td>\n",
       "      <td>1.332000e+03</td>\n",
       "      <td>1.336000e+03</td>\n",
       "    </tr>\n",
       "    <tr>\n",
       "      <th>mean</th>\n",
       "      <td>1684.100906</td>\n",
       "      <td>37.754394</td>\n",
       "      <td>-64.712273</td>\n",
       "      <td>6.756113</td>\n",
       "      <td>2.656163</td>\n",
       "      <td>6.325004e+06</td>\n",
       "      <td>2.240563e+04</td>\n",
       "      <td>1.177552e+04</td>\n",
       "    </tr>\n",
       "    <tr>\n",
       "      <th>std</th>\n",
       "      <td>932.901390</td>\n",
       "      <td>16.740905</td>\n",
       "      <td>67.090364</td>\n",
       "      <td>5.687004</td>\n",
       "      <td>3.301834</td>\n",
       "      <td>2.461353e+08</td>\n",
       "      <td>3.097990e+05</td>\n",
       "      <td>6.921569e+04</td>\n",
       "    </tr>\n",
       "    <tr>\n",
       "      <th>min</th>\n",
       "      <td>1.000000</td>\n",
       "      <td>-41.000000</td>\n",
       "      <td>-123.270000</td>\n",
       "      <td>0.000000</td>\n",
       "      <td>0.000000</td>\n",
       "      <td>0.000000e+00</td>\n",
       "      <td>0.000000e+00</td>\n",
       "      <td>0.000000e+00</td>\n",
       "    </tr>\n",
       "    <tr>\n",
       "      <th>25%</th>\n",
       "      <td>897.000000</td>\n",
       "      <td>37.410000</td>\n",
       "      <td>-102.702500</td>\n",
       "      <td>3.000000</td>\n",
       "      <td>1.000000</td>\n",
       "      <td>6.100000e+04</td>\n",
       "      <td>0.000000e+00</td>\n",
       "      <td>0.000000e+00</td>\n",
       "    </tr>\n",
       "    <tr>\n",
       "      <th>50%</th>\n",
       "      <td>1711.000000</td>\n",
       "      <td>38.580000</td>\n",
       "      <td>-95.000000</td>\n",
       "      <td>5.000000</td>\n",
       "      <td>2.000000</td>\n",
       "      <td>9.948000e+04</td>\n",
       "      <td>0.000000e+00</td>\n",
       "      <td>5.000000e+02</td>\n",
       "    </tr>\n",
       "    <tr>\n",
       "      <th>75%</th>\n",
       "      <td>2477.000000</td>\n",
       "      <td>45.440000</td>\n",
       "      <td>-64.562500</td>\n",
       "      <td>10.000000</td>\n",
       "      <td>3.000000</td>\n",
       "      <td>1.300000e+05</td>\n",
       "      <td>5.000000e+03</td>\n",
       "      <td>1.000000e+04</td>\n",
       "    </tr>\n",
       "    <tr>\n",
       "      <th>max</th>\n",
       "      <td>3298.000000</td>\n",
       "      <td>65.000000</td>\n",
       "      <td>174.000000</td>\n",
       "      <td>56.000000</td>\n",
       "      <td>58.000000</td>\n",
       "      <td>1.000000e+10</td>\n",
       "      <td>8.999999e+06</td>\n",
       "      <td>2.000000e+06</td>\n",
       "    </tr>\n",
       "  </tbody>\n",
       "</table>\n",
       "</div>"
      ],
      "text/plain": [
       "         salary_id  location_latitude  location_longitude  \\\n",
       "count  1655.000000         792.000000          792.000000   \n",
       "mean   1684.100906          37.754394          -64.712273   \n",
       "std     932.901390          16.740905           67.090364   \n",
       "min       1.000000         -41.000000         -123.270000   \n",
       "25%     897.000000          37.410000         -102.702500   \n",
       "50%    1711.000000          38.580000          -95.000000   \n",
       "75%    2477.000000          45.440000          -64.562500   \n",
       "max    3298.000000          65.000000          174.000000   \n",
       "\n",
       "       total_experience_years  employer_experience_years  annual_base_pay  \\\n",
       "count             1608.000000                1608.000000     1.651000e+03   \n",
       "mean                 6.756113                   2.656163     6.325004e+06   \n",
       "std                  5.687004                   3.301834     2.461353e+08   \n",
       "min                  0.000000                   0.000000     0.000000e+00   \n",
       "25%                  3.000000                   1.000000     6.100000e+04   \n",
       "50%                  5.000000                   2.000000     9.948000e+04   \n",
       "75%                 10.000000                   3.000000     1.300000e+05   \n",
       "max                 56.000000                  58.000000     1.000000e+10   \n",
       "\n",
       "       signing_bonus  annual_bonus  \n",
       "count   1.332000e+03  1.336000e+03  \n",
       "mean    2.240563e+04  1.177552e+04  \n",
       "std     3.097990e+05  6.921569e+04  \n",
       "min     0.000000e+00  0.000000e+00  \n",
       "25%     0.000000e+00  0.000000e+00  \n",
       "50%     0.000000e+00  5.000000e+02  \n",
       "75%     5.000000e+03  1.000000e+04  \n",
       "max     8.999999e+06  2.000000e+06  "
      ]
     },
     "execution_count": 9,
     "metadata": {},
     "output_type": "execute_result"
    }
   ],
   "source": [
    "df.describe()"
   ]
  },
  {
   "cell_type": "code",
   "execution_count": 10,
   "id": "2aab4de9",
   "metadata": {},
   "outputs": [
    {
     "data": {
      "text/plain": [
       "<Axes: >"
      ]
     },
     "execution_count": 10,
     "metadata": {},
     "output_type": "execute_result"
    },
    {
     "data": {
      "image/png": "[encoded data removed]",
      "text/plain": [
       "<Figure size 640x480 with 2 Axes>"
      ]
     },
     "metadata": {},
     "output_type": "display_data"
    }
   ],
   "source": [
    "sns.heatmap(df.corr(numeric_only=True),annot=True)"
   ]
  },
  {
   "cell_type": "code",
   "execution_count": 11,
   "id": "64758331",
   "metadata": {},
   "outputs": [
    {
     "data": {
      "application/vnd.microsoft.datawrangler.viewer.v0+json": {
       "columns": [
        {
         "name": "index",
         "rawType": "int64",
         "type": "integer"
        },
        {
         "name": "salary_id",
         "rawType": "int64",
         "type": "integer"
        },
        {
         "name": "employer_name",
         "rawType": "object",
         "type": "string"
        },
        {
         "name": "location_name",
         "rawType": "object",
         "type": "string"
        },
        {
         "name": "location_state",
         "rawType": "object",
         "type": "unknown"
        },
        {
         "name": "location_country",
         "rawType": "object",
         "type": "unknown"
        },
        {
         "name": "location_latitude",
         "rawType": "float64",
         "type": "float"
        },
        {
         "name": "location_longitude",
         "rawType": "float64",
         "type": "float"
        },
        {
         "name": "job_title",
         "rawType": "object",
         "type": "string"
        },
        {
         "name": "job_title_category",
         "rawType": "object",
         "type": "string"
        },
        {
         "name": "job_title_rank",
         "rawType": "object",
         "type": "string"
        },
        {
         "name": "total_experience_years",
         "rawType": "float64",
         "type": "float"
        },
        {
         "name": "employer_experience_years",
         "rawType": "float64",
         "type": "float"
        },
        {
         "name": "annual_base_pay",
         "rawType": "float64",
         "type": "float"
        },
        {
         "name": "signing_bonus",
         "rawType": "float64",
         "type": "float"
        },
        {
         "name": "annual_bonus",
         "rawType": "float64",
         "type": "float"
        },
        {
         "name": "stock_value_bonus",
         "rawType": "object",
         "type": "unknown"
        },
        {
         "name": "comments",
         "rawType": "object",
         "type": "unknown"
        },
        {
         "name": "submitted_at",
         "rawType": "object",
         "type": "string"
        }
       ],
       "conversionMethod": "pd.DataFrame",
       "ref": "97855529-37aa-4dae-bd58-5393cae43c58",
       "rows": [
        [
         "18",
         "40",
         "oracle",
         "bala cynwyd, pa",
         "PA",
         "US",
         "40.01",
         "-75.22",
         "student intern co-op",
         "Other",
         "Intern",
         "0.0",
         "0.0",
         "24.0",
         "0.0",
         "0.0",
         "$0",
         null,
         "3/21/16 13:06"
        ],
        [
         "111",
         "256",
         "american express",
         "phoenix, arizona",
         "AZ",
         "US",
         "33.45",
         "-112.06",
         "intern",
         "Other",
         "Intern",
         "0.0",
         "0.0",
         "60000.0",
         "5000.0",
         null,
         null,
         "Summer Intern, June-August",
         "3/21/16 13:25"
        ],
        [
         "158",
         "373",
         "verizon",
         "tampa",
         null,
         null,
         null,
         null,
         "internal help desk",
         "Other",
         "Intern",
         "4.0",
         "4.0",
         "38000.0",
         "0.0",
         "3000.0",
         null,
         null,
         "3/21/16 13:32"
        ],
        [
         "207",
         "470",
         "facebook",
         "menlo park",
         null,
         null,
         null,
         null,
         "software engineering intern",
         "Software",
         "Intern",
         "1.0",
         "0.0",
         "96000.0",
         "0.0",
         "0.0",
         "0",
         null,
         "3/21/16 13:39"
        ],
        [
         "263",
         "568",
         "ibm watson research",
         "yorktown,ny",
         null,
         null,
         null,
         null,
         "research intern",
         "Other",
         "Intern",
         "0.0",
         "1.0",
         "100000.0",
         "0.0",
         "0.0",
         "0",
         null,
         "3/21/16 13:44"
        ],
        [
         "385",
         "838",
         "sandia national laboratories",
         "albuquerque, new mexico",
         null,
         "MX",
         "23.0",
         "-102.0",
         "research intern",
         "Other",
         "Intern",
         "2.0",
         "0.0",
         "46000.0",
         "0.0",
         "0.0",
         "0",
         null,
         "3/21/16 14:00"
        ],
        [
         "415",
         "900",
         "minted",
         "san francisco",
         null,
         null,
         null,
         null,
         "software intern",
         "Software",
         "Intern",
         "1.0",
         "0.0",
         "74400.0",
         null,
         null,
         null,
         null,
         "3/21/16 14:05"
        ],
        [
         "458",
         "991",
         "workday",
         "pleasanton",
         null,
         null,
         null,
         null,
         "summer intern",
         "Other",
         "Intern",
         "0.0",
         "0.0",
         "32.0",
         "0.0",
         "0.0",
         "0",
         "housing + food",
         "3/21/16 14:11"
        ],
        [
         "461",
         "997",
         "bioinformatics company",
         "nijmegen",
         null,
         null,
         null,
         null,
         "internship",
         "Other",
         "Intern",
         "0.0",
         "0.0",
         "12000.0",
         "0.0",
         "0.0",
         "0",
         "This is my final internship after which I will be graduating as a BS in Bioinformatics. The company has offered me a job for after graduation.",
         "3/21/16 14:12"
        ],
        [
         "590",
         "1262",
         "bisite research group",
         "salamanca, spain",
         null,
         "ES",
         "40.0",
         "-4.0",
         "intern software engineer",
         "Software",
         "Intern",
         "4.0",
         "0.0",
         "5160.0",
         "0.0",
         "0.0",
         "0",
         null,
         "3/21/16 14:33"
        ],
        [
         "619",
         "1318",
         "netapp",
         "raleigh",
         null,
         null,
         null,
         null,
         "intern",
         "Other",
         "Intern",
         "2.0",
         "0.25",
         "31.0",
         "0.0",
         "0.0",
         "0",
         null,
         "3/21/16 14:38"
        ],
        [
         "676",
         "1424",
         "microsoft",
         "redmond",
         null,
         null,
         null,
         null,
         "sde intern",
         "Software",
         "Intern",
         "1.33",
         "0.66",
         "90000.0",
         "5000.0",
         "10000.0",
         "0",
         "Every two internships pay goes up by $500/month, an each internship after the first has a $5000 signing bonus. These numbers are annual iff you has three consecutive internships after already having two to start, and neglects the pay raise which would happen in the third.",
         "3/21/16 14:56"
        ],
        [
         "717",
         "1501",
         "amazon",
         "luxembourg, luxembourg",
         null,
         "LU",
         "49.75",
         "6.17",
         "product management intern",
         "Other",
         "Intern",
         "0.0",
         "0.5",
         "24000.0",
         "0.0",
         "0.0",
         "0",
         "internship",
         "3/21/16 15:06"
        ],
        [
         "744",
         "1553",
         "john hopkins applied physics lab",
         "maryland",
         "MD",
         "US",
         "38.0",
         "-97.0",
         "research intern",
         "Other",
         "Intern",
         "1.0",
         "0.0",
         "30.0",
         "0.0",
         "0.0",
         null,
         "Never",
         "3/21/16 15:14"
        ],
        [
         "891",
         "1832",
         "liberty mutual",
         "new hampshire",
         "NH",
         "US",
         "38.0",
         "-97.0",
         "developer intern",
         "Software",
         "Intern",
         "3.0",
         "1.5",
         "48000.0",
         "0.0",
         "0.0",
         "0",
         null,
         "3/21/16 16:22"
        ],
        [
         "1135",
         "2276",
         "qerja",
         "jakarta",
         null,
         null,
         null,
         null,
         "r&d intern",
         "Other",
         "Intern",
         "0.0",
         "0.3",
         "156000000.0",
         "0.0",
         "0.0",
         "0",
         null,
         "3/21/16 19:36"
        ],
        [
         "1156",
         "2310",
         "csra",
         "falls church, va, usa",
         "VA",
         "US",
         "38.86",
         "-77.05",
         "business analyst intern",
         "Data",
         "Intern",
         "2.0",
         "1.0",
         "44000.0",
         "0.0",
         "0.0",
         "0",
         "Paid hourly but salary is based off of 2000hrs/yr",
         "3/21/16 19:53"
        ],
        [
         "1157",
         "2311",
         "csra",
         "falls church, va, usa",
         "VA",
         "US",
         "38.86",
         "-77.05",
         "business analyst intern",
         "Data",
         "Intern",
         "2.0",
         "1.0",
         "44000.0",
         "0.0",
         "0.0",
         "0",
         "Paid hourly but salary is based off of 2000hrs/yr",
         "3/21/16 19:53"
        ],
        [
         "1381",
         "2767",
         "facebook",
         "menlo park, ca",
         "CA",
         "US",
         "37.45",
         "-122.17",
         "software engineering intern",
         "Software",
         "Intern",
         "0.0",
         "0.25",
         "8400.0",
         "0.0",
         "0.0",
         "0",
         null,
         "3/22/16 2:05"
        ],
        [
         "1622",
         "3228",
         "microsoft",
         "redmond, wa",
         "WA",
         "US",
         "47.68",
         "-122.12",
         "intern",
         "Other",
         "Intern",
         "2.0",
         "1.0",
         "90000.0",
         "5000.0",
         "0.0",
         "0",
         "4000 In housing for the summer, and 1000 for transportation for the 12 weeks.",
         "3/22/16 18:28"
        ],
        [
         "1654",
         "3298",
         "linkedin",
         "sunnyvale",
         null,
         null,
         null,
         null,
         "business analytics intern",
         "Other",
         "Intern",
         "2.0",
         "0.0",
         "50.0",
         "0.0",
         "0.0",
         "0",
         null,
         "3/23/16 9:12"
        ]
       ],
       "shape": {
        "columns": 18,
        "rows": 21
       }
      },
      "text/html": [
       "<div>\n",
       "<style scoped>\n",
       "    .dataframe tbody tr th:only-of-type {\n",
       "        vertical-align: middle;\n",
       "    }\n",
       "\n",
       "    .dataframe tbody tr th {\n",
       "        vertical-align: top;\n",
       "    }\n",
       "\n",
       "    .dataframe thead th {\n",
       "        text-align: right;\n",
       "    }\n",
       "</style>\n",
       "<table border=\"1\" class=\"dataframe\">\n",
       "  <thead>\n",
       "    <tr style=\"text-align: right;\">\n",
       "      <th></th>\n",
       "      <th>salary_id</th>\n",
       "      <th>employer_name</th>\n",
       "      <th>location_name</th>\n",
       "      <th>location_state</th>\n",
       "      <th>location_country</th>\n",
       "      <th>location_latitude</th>\n",
       "      <th>location_longitude</th>\n",
       "      <th>job_title</th>\n",
       "      <th>job_title_category</th>\n",
       "      <th>job_title_rank</th>\n",
       "      <th>total_experience_years</th>\n",
       "      <th>employer_experience_years</th>\n",
       "      <th>annual_base_pay</th>\n",
       "      <th>signing_bonus</th>\n",
       "      <th>annual_bonus</th>\n",
       "      <th>stock_value_bonus</th>\n",
       "      <th>comments</th>\n",
       "      <th>submitted_at</th>\n",
       "    </tr>\n",
       "  </thead>\n",
       "  <tbody>\n",
       "    <tr>\n",
       "      <th>18</th>\n",
       "      <td>40</td>\n",
       "      <td>oracle</td>\n",
       "      <td>bala cynwyd, pa</td>\n",
       "      <td>PA</td>\n",
       "      <td>US</td>\n",
       "      <td>40.01</td>\n",
       "      <td>-75.22</td>\n",
       "      <td>student intern co-op</td>\n",
       "      <td>Other</td>\n",
       "      <td>Intern</td>\n",
       "      <td>0.00</td>\n",
       "      <td>0.00</td>\n",
       "      <td>24.0</td>\n",
       "      <td>0.0</td>\n",
       "      <td>0.0</td>\n",
       "      <td>$0</td>\n",
       "      <td>NaN</td>\n",
       "      <td>3/21/16 13:06</td>\n",
       "    </tr>\n",
       "    <tr>\n",
       "      <th>111</th>\n",
       "      <td>256</td>\n",
       "      <td>american express</td>\n",
       "      <td>phoenix, arizona</td>\n",
       "      <td>AZ</td>\n",
       "      <td>US</td>\n",
       "      <td>33.45</td>\n",
       "      <td>-112.06</td>\n",
       "      <td>intern</td>\n",
       "      <td>Other</td>\n",
       "      <td>Intern</td>\n",
       "      <td>0.00</td>\n",
       "      <td>0.00</td>\n",
       "      <td>60000.0</td>\n",
       "      <td>5000.0</td>\n",
       "      <td>NaN</td>\n",
       "      <td>NaN</td>\n",
       "      <td>Summer Intern, June-August</td>\n",
       "      <td>3/21/16 13:25</td>\n",
       "    </tr>\n",
       "    <tr>\n",
       "      <th>158</th>\n",
       "      <td>373</td>\n",
       "      <td>verizon</td>\n",
       "      <td>tampa</td>\n",
       "      <td>NaN</td>\n",
       "      <td>NaN</td>\n",
       "      <td>NaN</td>\n",
       "      <td>NaN</td>\n",
       "      <td>internal help desk</td>\n",
       "      <td>Other</td>\n",
       "      <td>Intern</td>\n",
       "      <td>4.00</td>\n",
       "      <td>4.00</td>\n",
       "      <td>38000.0</td>\n",
       "      <td>0.0</td>\n",
       "      <td>3000.0</td>\n",
       "      <td>NaN</td>\n",
       "      <td>NaN</td>\n",
       "      <td>3/21/16 13:32</td>\n",
       "    </tr>\n",
       "    <tr>\n",
       "      <th>207</th>\n",
       "      <td>470</td>\n",
       "      <td>facebook</td>\n",
       "      <td>menlo park</td>\n",
       "      <td>NaN</td>\n",
       "      <td>NaN</td>\n",
       "      <td>NaN</td>\n",
       "      <td>NaN</td>\n",
       "      <td>software engineering intern</td>\n",
       "      <td>Software</td>\n",
       "      <td>Intern</td>\n",
       "      <td>1.00</td>\n",
       "      <td>0.00</td>\n",
       "      <td>96000.0</td>\n",
       "      <td>0.0</td>\n",
       "      <td>0.0</td>\n",
       "      <td>0</td>\n",
       "      <td>NaN</td>\n",
       "      <td>3/21/16 13:39</td>\n",
       "    </tr>\n",
       "    <tr>\n",
       "      <th>263</th>\n",
       "      <td>568</td>\n",
       "      <td>ibm watson research</td>\n",
       "      <td>yorktown,ny</td>\n",
       "      <td>NaN</td>\n",
       "      <td>NaN</td>\n",
       "      <td>NaN</td>\n",
       "      <td>NaN</td>\n",
       "      <td>research intern</td>\n",
       "      <td>Other</td>\n",
       "      <td>Intern</td>\n",
       "      <td>0.00</td>\n",
       "      <td>1.00</td>\n",
       "      <td>100000.0</td>\n",
       "      <td>0.0</td>\n",
       "      <td>0.0</td>\n",
       "      <td>0</td>\n",
       "      <td>NaN</td>\n",
       "      <td>3/21/16 13:44</td>\n",
       "    </tr>\n",
       "    <tr>\n",
       "      <th>385</th>\n",
       "      <td>838</td>\n",
       "      <td>sandia national laboratories</td>\n",
       "      <td>albuquerque, new mexico</td>\n",
       "      <td>NaN</td>\n",
       "      <td>MX</td>\n",
       "      <td>23.00</td>\n",
       "      <td>-102.00</td>\n",
       "      <td>research intern</td>\n",
       "      <td>Other</td>\n",
       "      <td>Intern</td>\n",
       "      <td>2.00</td>\n",
       "      <td>0.00</td>\n",
       "      <td>46000.0</td>\n",
       "      <td>0.0</td>\n",
       "      <td>0.0</td>\n",
       "      <td>0</td>\n",
       "      <td>NaN</td>\n",
       "      <td>3/21/16 14:00</td>\n",
       "    </tr>\n",
       "    <tr>\n",
       "      <th>415</th>\n",
       "      <td>900</td>\n",
       "      <td>minted</td>\n",
       "      <td>san francisco</td>\n",
       "      <td>NaN</td>\n",
       "      <td>NaN</td>\n",
       "      <td>NaN</td>\n",
       "      <td>NaN</td>\n",
       "      <td>software intern</td>\n",
       "      <td>Software</td>\n",
       "      <td>Intern</td>\n",
       "      <td>1.00</td>\n",
       "      <td>0.00</td>\n",
       "      <td>74400.0</td>\n",
       "      <td>NaN</td>\n",
       "      <td>NaN</td>\n",
       "      <td>NaN</td>\n",
       "      <td>NaN</td>\n",
       "      <td>3/21/16 14:05</td>\n",
       "    </tr>\n",
       "    <tr>\n",
       "      <th>458</th>\n",
       "      <td>991</td>\n",
       "      <td>workday</td>\n",
       "      <td>pleasanton</td>\n",
       "      <td>NaN</td>\n",
       "      <td>NaN</td>\n",
       "      <td>NaN</td>\n",
       "      <td>NaN</td>\n",
       "      <td>summer intern</td>\n",
       "      <td>Other</td>\n",
       "      <td>Intern</td>\n",
       "      <td>0.00</td>\n",
       "      <td>0.00</td>\n",
       "      <td>32.0</td>\n",
       "      <td>0.0</td>\n",
       "      <td>0.0</td>\n",
       "      <td>0</td>\n",
       "      <td>housing + food</td>\n",
       "      <td>3/21/16 14:11</td>\n",
       "    </tr>\n",
       "    <tr>\n",
       "      <th>461</th>\n",
       "      <td>997</td>\n",
       "      <td>bioinformatics company</td>\n",
       "      <td>nijmegen</td>\n",
       "      <td>NaN</td>\n",
       "      <td>NaN</td>\n",
       "      <td>NaN</td>\n",
       "      <td>NaN</td>\n",
       "      <td>internship</td>\n",
       "      <td>Other</td>\n",
       "      <td>Intern</td>\n",
       "      <td>0.00</td>\n",
       "      <td>0.00</td>\n",
       "      <td>12000.0</td>\n",
       "      <td>0.0</td>\n",
       "      <td>0.0</td>\n",
       "      <td>0</td>\n",
       "      <td>This is my final internship after which I will...</td>\n",
       "      <td>3/21/16 14:12</td>\n",
       "    </tr>\n",
       "    <tr>\n",
       "      <th>590</th>\n",
       "      <td>1262</td>\n",
       "      <td>bisite research group</td>\n",
       "      <td>salamanca, spain</td>\n",
       "      <td>NaN</td>\n",
       "      <td>ES</td>\n",
       "      <td>40.00</td>\n",
       "      <td>-4.00</td>\n",
       "      <td>intern software engineer</td>\n",
       "      <td>Software</td>\n",
       "      <td>Intern</td>\n",
       "      <td>4.00</td>\n",
       "      <td>0.00</td>\n",
       "      <td>5160.0</td>\n",
       "      <td>0.0</td>\n",
       "      <td>0.0</td>\n",
       "      <td>0</td>\n",
       "      <td>NaN</td>\n",
       "      <td>3/21/16 14:33</td>\n",
       "    </tr>\n",
       "    <tr>\n",
       "      <th>619</th>\n",
       "      <td>1318</td>\n",
       "      <td>netapp</td>\n",
       "      <td>raleigh</td>\n",
       "      <td>NaN</td>\n",
       "      <td>NaN</td>\n",
       "      <td>NaN</td>\n",
       "      <td>NaN</td>\n",
       "      <td>intern</td>\n",
       "      <td>Other</td>\n",
       "      <td>Intern</td>\n",
       "      <td>2.00</td>\n",
       "      <td>0.25</td>\n",
       "      <td>31.0</td>\n",
       "      <td>0.0</td>\n",
       "      <td>0.0</td>\n",
       "      <td>0</td>\n",
       "      <td>NaN</td>\n",
       "      <td>3/21/16 14:38</td>\n",
       "    </tr>\n",
       "    <tr>\n",
       "      <th>676</th>\n",
       "      <td>1424</td>\n",
       "      <td>microsoft</td>\n",
       "      <td>redmond</td>\n",
       "      <td>NaN</td>\n",
       "      <td>NaN</td>\n",
       "      <td>NaN</td>\n",
       "      <td>NaN</td>\n",
       "      <td>sde intern</td>\n",
       "      <td>Software</td>\n",
       "      <td>Intern</td>\n",
       "      <td>1.33</td>\n",
       "      <td>0.66</td>\n",
       "      <td>90000.0</td>\n",
       "      <td>5000.0</td>\n",
       "      <td>10000.0</td>\n",
       "      <td>0</td>\n",
       "      <td>Every two internships pay goes up by $500/mont...</td>\n",
       "      <td>3/21/16 14:56</td>\n",
       "    </tr>\n",
       "    <tr>\n",
       "      <th>717</th>\n",
       "      <td>1501</td>\n",
       "      <td>amazon</td>\n",
       "      <td>luxembourg, luxembourg</td>\n",
       "      <td>NaN</td>\n",
       "      <td>LU</td>\n",
       "      <td>49.75</td>\n",
       "      <td>6.17</td>\n",
       "      <td>product management intern</td>\n",
       "      <td>Other</td>\n",
       "      <td>Intern</td>\n",
       "      <td>0.00</td>\n",
       "      <td>0.50</td>\n",
       "      <td>24000.0</td>\n",
       "      <td>0.0</td>\n",
       "      <td>0.0</td>\n",
       "      <td>0</td>\n",
       "      <td>internship</td>\n",
       "      <td>3/21/16 15:06</td>\n",
       "    </tr>\n",
       "    <tr>\n",
       "      <th>744</th>\n",
       "      <td>1553</td>\n",
       "      <td>john hopkins applied physics lab</td>\n",
       "      <td>maryland</td>\n",
       "      <td>MD</td>\n",
       "      <td>US</td>\n",
       "      <td>38.00</td>\n",
       "      <td>-97.00</td>\n",
       "      <td>research intern</td>\n",
       "      <td>Other</td>\n",
       "      <td>Intern</td>\n",
       "      <td>1.00</td>\n",
       "      <td>0.00</td>\n",
       "      <td>30.0</td>\n",
       "      <td>0.0</td>\n",
       "      <td>0.0</td>\n",
       "      <td>NaN</td>\n",
       "      <td>Never</td>\n",
       "      <td>3/21/16 15:14</td>\n",
       "    </tr>\n",
       "    <tr>\n",
       "      <th>891</th>\n",
       "      <td>1832</td>\n",
       "      <td>liberty mutual</td>\n",
       "      <td>new hampshire</td>\n",
       "      <td>NH</td>\n",
       "      <td>US</td>\n",
       "      <td>38.00</td>\n",
       "      <td>-97.00</td>\n",
       "      <td>developer intern</td>\n",
       "      <td>Software</td>\n",
       "      <td>Intern</td>\n",
       "      <td>3.00</td>\n",
       "      <td>1.50</td>\n",
       "      <td>48000.0</td>\n",
       "      <td>0.0</td>\n",
       "      <td>0.0</td>\n",
       "      <td>0</td>\n",
       "      <td>NaN</td>\n",
       "      <td>3/21/16 16:22</td>\n",
       "    </tr>\n",
       "    <tr>\n",
       "      <th>1135</th>\n",
       "      <td>2276</td>\n",
       "      <td>qerja</td>\n",
       "      <td>jakarta</td>\n",
       "      <td>NaN</td>\n",
       "      <td>NaN</td>\n",
       "      <td>NaN</td>\n",
       "      <td>NaN</td>\n",
       "      <td>r&amp;d intern</td>\n",
       "      <td>Other</td>\n",
       "      <td>Intern</td>\n",
       "      <td>0.00</td>\n",
       "      <td>0.30</td>\n",
       "      <td>156000000.0</td>\n",
       "      <td>0.0</td>\n",
       "      <td>0.0</td>\n",
       "      <td>0</td>\n",
       "      <td>NaN</td>\n",
       "      <td>3/21/16 19:36</td>\n",
       "    </tr>\n",
       "    <tr>\n",
       "      <th>1156</th>\n",
       "      <td>2310</td>\n",
       "      <td>csra</td>\n",
       "      <td>falls church, va, usa</td>\n",
       "      <td>VA</td>\n",
       "      <td>US</td>\n",
       "      <td>38.86</td>\n",
       "      <td>-77.05</td>\n",
       "      <td>business analyst intern</td>\n",
       "      <td>Data</td>\n",
       "      <td>Intern</td>\n",
       "      <td>2.00</td>\n",
       "      <td>1.00</td>\n",
       "      <td>44000.0</td>\n",
       "      <td>0.0</td>\n",
       "      <td>0.0</td>\n",
       "      <td>0</td>\n",
       "      <td>Paid hourly but salary is based off of 2000hrs/yr</td>\n",
       "      <td>3/21/16 19:53</td>\n",
       "    </tr>\n",
       "    <tr>\n",
       "      <th>1157</th>\n",
       "      <td>2311</td>\n",
       "      <td>csra</td>\n",
       "      <td>falls church, va, usa</td>\n",
       "      <td>VA</td>\n",
       "      <td>US</td>\n",
       "      <td>38.86</td>\n",
       "      <td>-77.05</td>\n",
       "      <td>business analyst intern</td>\n",
       "      <td>Data</td>\n",
       "      <td>Intern</td>\n",
       "      <td>2.00</td>\n",
       "      <td>1.00</td>\n",
       "      <td>44000.0</td>\n",
       "      <td>0.0</td>\n",
       "      <td>0.0</td>\n",
       "      <td>0</td>\n",
       "      <td>Paid hourly but salary is based off of 2000hrs/yr</td>\n",
       "      <td>3/21/16 19:53</td>\n",
       "    </tr>\n",
       "    <tr>\n",
       "      <th>1381</th>\n",
       "      <td>2767</td>\n",
       "      <td>facebook</td>\n",
       "      <td>menlo park, ca</td>\n",
       "      <td>CA</td>\n",
       "      <td>US</td>\n",
       "      <td>37.45</td>\n",
       "      <td>-122.17</td>\n",
       "      <td>software engineering intern</td>\n",
       "      <td>Software</td>\n",
       "      <td>Intern</td>\n",
       "      <td>0.00</td>\n",
       "      <td>0.25</td>\n",
       "      <td>8400.0</td>\n",
       "      <td>0.0</td>\n",
       "      <td>0.0</td>\n",
       "      <td>0</td>\n",
       "      <td>NaN</td>\n",
       "      <td>3/22/16 2:05</td>\n",
       "    </tr>\n",
       "    <tr>\n",
       "      <th>1622</th>\n",
       "      <td>3228</td>\n",
       "      <td>microsoft</td>\n",
       "      <td>redmond, wa</td>\n",
       "      <td>WA</td>\n",
       "      <td>US</td>\n",
       "      <td>47.68</td>\n",
       "      <td>-122.12</td>\n",
       "      <td>intern</td>\n",
       "      <td>Other</td>\n",
       "      <td>Intern</td>\n",
       "      <td>2.00</td>\n",
       "      <td>1.00</td>\n",
       "      <td>90000.0</td>\n",
       "      <td>5000.0</td>\n",
       "      <td>0.0</td>\n",
       "      <td>0</td>\n",
       "      <td>4000 In housing for the summer, and 1000 for t...</td>\n",
       "      <td>3/22/16 18:28</td>\n",
       "    </tr>\n",
       "    <tr>\n",
       "      <th>1654</th>\n",
       "      <td>3298</td>\n",
       "      <td>linkedin</td>\n",
       "      <td>sunnyvale</td>\n",
       "      <td>NaN</td>\n",
       "      <td>NaN</td>\n",
       "      <td>NaN</td>\n",
       "      <td>NaN</td>\n",
       "      <td>business analytics intern</td>\n",
       "      <td>Other</td>\n",
       "      <td>Intern</td>\n",
       "      <td>2.00</td>\n",
       "      <td>0.00</td>\n",
       "      <td>50.0</td>\n",
       "      <td>0.0</td>\n",
       "      <td>0.0</td>\n",
       "      <td>0</td>\n",
       "      <td>NaN</td>\n",
       "      <td>3/23/16 9:12</td>\n",
       "    </tr>\n",
       "  </tbody>\n",
       "</table>\n",
       "</div>"
      ],
      "text/plain": [
       "      salary_id                     employer_name            location_name  \\\n",
       "18           40                            oracle          bala cynwyd, pa   \n",
       "111         256                  american express         phoenix, arizona   \n",
       "158         373                           verizon                    tampa   \n",
       "207         470                          facebook               menlo park   \n",
       "263         568               ibm watson research              yorktown,ny   \n",
       "385         838      sandia national laboratories  albuquerque, new mexico   \n",
       "415         900                            minted            san francisco   \n",
       "458         991                           workday               pleasanton   \n",
       "461         997            bioinformatics company                 nijmegen   \n",
       "590        1262             bisite research group         salamanca, spain   \n",
       "619        1318                            netapp                  raleigh   \n",
       "676        1424                         microsoft                  redmond   \n",
       "717        1501                            amazon   luxembourg, luxembourg   \n",
       "744        1553  john hopkins applied physics lab                 maryland   \n",
       "891        1832                    liberty mutual            new hampshire   \n",
       "1135       2276                             qerja                  jakarta   \n",
       "1156       2310                              csra    falls church, va, usa   \n",
       "1157       2311                              csra    falls church, va, usa   \n",
       "1381       2767                          facebook           menlo park, ca   \n",
       "1622       3228                         microsoft              redmond, wa   \n",
       "1654       3298                          linkedin                sunnyvale   \n",
       "\n",
       "     location_state location_country  location_latitude  location_longitude  \\\n",
       "18               PA               US              40.01              -75.22   \n",
       "111              AZ               US              33.45             -112.06   \n",
       "158             NaN              NaN                NaN                 NaN   \n",
       "207             NaN              NaN                NaN                 NaN   \n",
       "263             NaN              NaN                NaN                 NaN   \n",
       "385             NaN               MX              23.00             -102.00   \n",
       "415             NaN              NaN                NaN                 NaN   \n",
       "458             NaN              NaN                NaN                 NaN   \n",
       "461             NaN              NaN                NaN                 NaN   \n",
       "590             NaN               ES              40.00               -4.00   \n",
       "619             NaN              NaN                NaN                 NaN   \n",
       "676             NaN              NaN                NaN                 NaN   \n",
       "717             NaN               LU              49.75                6.17   \n",
       "744              MD               US              38.00              -97.00   \n",
       "891              NH               US              38.00              -97.00   \n",
       "1135            NaN              NaN                NaN                 NaN   \n",
       "1156             VA               US              38.86              -77.05   \n",
       "1157             VA               US              38.86              -77.05   \n",
       "1381             CA               US              37.45             -122.17   \n",
       "1622             WA               US              47.68             -122.12   \n",
       "1654            NaN              NaN                NaN                 NaN   \n",
       "\n",
       "                        job_title job_title_category job_title_rank  \\\n",
       "18           student intern co-op              Other         Intern   \n",
       "111                        intern              Other         Intern   \n",
       "158            internal help desk              Other         Intern   \n",
       "207   software engineering intern           Software         Intern   \n",
       "263               research intern              Other         Intern   \n",
       "385               research intern              Other         Intern   \n",
       "415               software intern           Software         Intern   \n",
       "458                 summer intern              Other         Intern   \n",
       "461                    internship              Other         Intern   \n",
       "590      intern software engineer           Software         Intern   \n",
       "619                        intern              Other         Intern   \n",
       "676                    sde intern           Software         Intern   \n",
       "717     product management intern              Other         Intern   \n",
       "744               research intern              Other         Intern   \n",
       "891              developer intern           Software         Intern   \n",
       "1135                   r&d intern              Other         Intern   \n",
       "1156      business analyst intern               Data         Intern   \n",
       "1157      business analyst intern               Data         Intern   \n",
       "1381  software engineering intern           Software         Intern   \n",
       "1622                       intern              Other         Intern   \n",
       "1654    business analytics intern              Other         Intern   \n",
       "\n",
       "      total_experience_years  employer_experience_years  annual_base_pay  \\\n",
       "18                      0.00                       0.00             24.0   \n",
       "111                     0.00                       0.00          60000.0   \n",
       "158                     4.00                       4.00          38000.0   \n",
       "207                     1.00                       0.00          96000.0   \n",
       "263                     0.00                       1.00         100000.0   \n",
       "385                     2.00                       0.00          46000.0   \n",
       "415                     1.00                       0.00          74400.0   \n",
       "458                     0.00                       0.00             32.0   \n",
       "461                     0.00                       0.00          12000.0   \n",
       "590                     4.00                       0.00           5160.0   \n",
       "619                     2.00                       0.25             31.0   \n",
       "676                     1.33                       0.66          90000.0   \n",
       "717                     0.00                       0.50          24000.0   \n",
       "744                     1.00                       0.00             30.0   \n",
       "891                     3.00                       1.50          48000.0   \n",
       "1135                    0.00                       0.30      156000000.0   \n",
       "1156                    2.00                       1.00          44000.0   \n",
       "1157                    2.00                       1.00          44000.0   \n",
       "1381                    0.00                       0.25           8400.0   \n",
       "1622                    2.00                       1.00          90000.0   \n",
       "1654                    2.00                       0.00             50.0   \n",
       "\n",
       "      signing_bonus  annual_bonus stock_value_bonus  \\\n",
       "18              0.0           0.0                $0   \n",
       "111          5000.0           NaN               NaN   \n",
       "158             0.0        3000.0               NaN   \n",
       "207             0.0           0.0                 0   \n",
       "263             0.0           0.0                 0   \n",
       "385             0.0           0.0                 0   \n",
       "415             NaN           NaN               NaN   \n",
       "458             0.0           0.0                 0   \n",
       "461             0.0           0.0                 0   \n",
       "590             0.0           0.0                 0   \n",
       "619             0.0           0.0                 0   \n",
       "676          5000.0       10000.0                 0   \n",
       "717             0.0           0.0                 0   \n",
       "744             0.0           0.0               NaN   \n",
       "891             0.0           0.0                 0   \n",
       "1135            0.0           0.0                 0   \n",
       "1156            0.0           0.0                 0   \n",
       "1157            0.0           0.0                 0   \n",
       "1381            0.0           0.0                 0   \n",
       "1622         5000.0           0.0                 0   \n",
       "1654            0.0           0.0                 0   \n",
       "\n",
       "                                               comments   submitted_at  \n",
       "18                                                  NaN  3/21/16 13:06  \n",
       "111                          Summer Intern, June-August  3/21/16 13:25  \n",
       "158                                                 NaN  3/21/16 13:32  \n",
       "207                                                 NaN  3/21/16 13:39  \n",
       "263                                                 NaN  3/21/16 13:44  \n",
       "385                                                 NaN  3/21/16 14:00  \n",
       "415                                                 NaN  3/21/16 14:05  \n",
       "458                                      housing + food  3/21/16 14:11  \n",
       "461   This is my final internship after which I will...  3/21/16 14:12  \n",
       "590                                                 NaN  3/21/16 14:33  \n",
       "619                                                 NaN  3/21/16 14:38  \n",
       "676   Every two internships pay goes up by $500/mont...  3/21/16 14:56  \n",
       "717                                          internship  3/21/16 15:06  \n",
       "744                                               Never  3/21/16 15:14  \n",
       "891                                                 NaN  3/21/16 16:22  \n",
       "1135                                                NaN  3/21/16 19:36  \n",
       "1156  Paid hourly but salary is based off of 2000hrs/yr  3/21/16 19:53  \n",
       "1157  Paid hourly but salary is based off of 2000hrs/yr  3/21/16 19:53  \n",
       "1381                                                NaN   3/22/16 2:05  \n",
       "1622  4000 In housing for the summer, and 1000 for t...  3/22/16 18:28  \n",
       "1654                                                NaN   3/23/16 9:12  "
      ]
     },
     "execution_count": 11,
     "metadata": {},
     "output_type": "execute_result"
    }
   ],
   "source": [
    "df[df[\"job_title_rank\"]==\"Intern\"]"
   ]
  },
  {
   "cell_type": "markdown",
   "id": "c92d46ad",
   "metadata": {},
   "source": [
    "## Veri Temizleme"
   ]
  },
  {
   "cell_type": "code",
   "execution_count": 12,
   "id": "61111564",
   "metadata": {},
   "outputs": [],
   "source": [
    "df=df.drop([])"
   ]
  },
  {
   "cell_type": "code",
   "execution_count": 13,
   "id": "2ec0ecc7",
   "metadata": {},
   "outputs": [
    {
     "data": {
      "text/plain": [
       "Index(['salary_id', 'employer_name', 'location_name', 'location_state',\n",
       "       'location_country', 'location_latitude', 'location_longitude',\n",
       "       'job_title', 'job_title_category', 'job_title_rank',\n",
       "       'total_experience_years', 'employer_experience_years',\n",
       "       'annual_base_pay', 'signing_bonus', 'annual_bonus', 'stock_value_bonus',\n",
       "       'comments', 'submitted_at'],\n",
       "      dtype='object')"
      ]
     },
     "execution_count": 13,
     "metadata": {},
     "output_type": "execute_result"
    }
   ],
   "source": [
    "df.columns"
   ]
  },
  {
   "cell_type": "code",
   "execution_count": 14,
   "id": "16237d37",
   "metadata": {},
   "outputs": [],
   "source": [
    "df= df.drop([\"salary_id\", \"location_state\", \"location_country\", \"location_latitude\",\"location_longitude\",\n",
    "    \"job_title_rank\", \"location_name\", \"stock_value_bonus\", \"comments\", \"submitted_at\"], axis=1)"
   ]
  },
  {
   "cell_type": "code",
   "execution_count": 15,
   "id": "58cccfdd",
   "metadata": {},
   "outputs": [
    {
     "data": {
      "text/plain": [
       "employer_name                  4\n",
       "job_title                      0\n",
       "job_title_category             0\n",
       "total_experience_years        47\n",
       "employer_experience_years     47\n",
       "annual_base_pay                4\n",
       "signing_bonus                323\n",
       "annual_bonus                 319\n",
       "dtype: int64"
      ]
     },
     "execution_count": 15,
     "metadata": {},
     "output_type": "execute_result"
    }
   ],
   "source": [
    "df.isna().sum()"
   ]
  },
  {
   "cell_type": "code",
   "execution_count": 16,
   "id": "309c3f70",
   "metadata": {},
   "outputs": [],
   "source": [
    "df=df.dropna(subset=[\"employer_name\",\"annual_base_pay\"],)"
   ]
  },
  {
   "cell_type": "code",
   "execution_count": 17,
   "id": "449eb733",
   "metadata": {},
   "outputs": [
    {
     "data": {
      "text/plain": [
       "1647"
      ]
     },
     "execution_count": 17,
     "metadata": {},
     "output_type": "execute_result"
    }
   ],
   "source": [
    "len(df)"
   ]
  },
  {
   "cell_type": "code",
   "execution_count": 18,
   "id": "5873b142",
   "metadata": {},
   "outputs": [
    {
     "data": {
      "text/plain": [
       "employer_name                  0\n",
       "job_title                      0\n",
       "job_title_category             0\n",
       "total_experience_years        44\n",
       "employer_experience_years     44\n",
       "annual_base_pay                0\n",
       "signing_bonus                318\n",
       "annual_bonus                 314\n",
       "dtype: int64"
      ]
     },
     "execution_count": 18,
     "metadata": {},
     "output_type": "execute_result"
    }
   ],
   "source": [
    "df.isna().sum()"
   ]
  },
  {
   "cell_type": "code",
   "execution_count": 19,
   "id": "927cc755",
   "metadata": {},
   "outputs": [],
   "source": [
    "df[[\"signing_bonus\",\"annual_bonus\"]]=df[[\"signing_bonus\",\"annual_bonus\"]].fillna(0)"
   ]
  },
  {
   "cell_type": "code",
   "execution_count": 20,
   "id": "38c9b51f",
   "metadata": {},
   "outputs": [],
   "source": [
    "df[[\"total_experience_years\",\n",
    "    \"employer_experience_years\"]]=df[[\"total_experience_years\",\n",
    "    \"employer_experience_years\"]].fillna(round(df[[\"total_experience_years\",\n",
    "    \"employer_experience_years\"]].mean(),))"
   ]
  },
  {
   "cell_type": "code",
   "execution_count": 21,
   "id": "e4b45e7a",
   "metadata": {},
   "outputs": [
    {
     "data": {
      "text/plain": [
       "employer_name                0\n",
       "job_title                    0\n",
       "job_title_category           0\n",
       "total_experience_years       0\n",
       "employer_experience_years    0\n",
       "annual_base_pay              0\n",
       "signing_bonus                0\n",
       "annual_bonus                 0\n",
       "dtype: int64"
      ]
     },
     "execution_count": 21,
     "metadata": {},
     "output_type": "execute_result"
    }
   ],
   "source": [
    "df.isna().sum()"
   ]
  },
  {
   "cell_type": "code",
   "execution_count": 22,
   "id": "1a8bdd4f",
   "metadata": {},
   "outputs": [],
   "source": [
    "# float ve virgülden sonra 0 basamak, tüm x'lere uygula.\n",
    "pd.set_option(\"display.float_format\",lambda x:\"%0.f\" %x)"
   ]
  },
  {
   "cell_type": "code",
   "execution_count": 23,
   "id": "664c2d1c",
   "metadata": {},
   "outputs": [
    {
     "data": {
      "text/plain": [
       "<bound method IndexOpsMixin.value_counts of 0      125000\n",
       "1       65000\n",
       "2       86000\n",
       "3      105000\n",
       "4      110000\n",
       "        ...  \n",
       "1650    60500\n",
       "1651   164000\n",
       "1652   150000\n",
       "1653    75000\n",
       "1654       50\n",
       "Name: annual_base_pay, Length: 1647, dtype: float64>"
      ]
     },
     "execution_count": 23,
     "metadata": {},
     "output_type": "execute_result"
    }
   ],
   "source": [
    "df[\"annual_base_pay\"].value_counts"
   ]
  },
  {
   "cell_type": "code",
   "execution_count": 24,
   "id": "7299b8ac",
   "metadata": {},
   "outputs": [],
   "source": [
    "df=df[(df[\"annual_base_pay\"]<90_000_000)& (df[\"annual_base_pay\"])]"
   ]
  },
  {
   "cell_type": "code",
   "execution_count": 25,
   "id": "b4820831",
   "metadata": {},
   "outputs": [
    {
     "data": {
      "application/vnd.microsoft.datawrangler.viewer.v0+json": {
       "columns": [
        {
         "name": "index",
         "rawType": "int64",
         "type": "integer"
        },
        {
         "name": "employer_name",
         "rawType": "object",
         "type": "string"
        },
        {
         "name": "job_title",
         "rawType": "object",
         "type": "string"
        },
        {
         "name": "job_title_category",
         "rawType": "object",
         "type": "string"
        },
        {
         "name": "total_experience_years",
         "rawType": "float64",
         "type": "float"
        },
        {
         "name": "employer_experience_years",
         "rawType": "float64",
         "type": "float"
        },
        {
         "name": "annual_base_pay",
         "rawType": "float64",
         "type": "float"
        },
        {
         "name": "signing_bonus",
         "rawType": "float64",
         "type": "float"
        },
        {
         "name": "annual_bonus",
         "rawType": "float64",
         "type": "float"
        }
       ],
       "conversionMethod": "pd.DataFrame",
       "ref": "98f19735-7479-4729-9016-138740b64d29",
       "rows": [
        [
         "0",
         "opower",
         "systems engineer",
         "Engineering",
         "13.0",
         "2.0",
         "125000.0",
         "5000.0",
         "0.0"
        ],
        [
         "1",
         "walmart",
         "senior developer",
         "Software",
         "15.0",
         "8.0",
         "65000.0",
         "0.0",
         "5000.0"
        ],
        [
         "2",
         "vertical knowledge",
         "software engineer",
         "Software",
         "4.0",
         "1.0",
         "86000.0",
         "5000.0",
         "6000.0"
        ],
        [
         "3",
         "netapp",
         "mts",
         "Other",
         "4.0",
         "0.0",
         "105000.0",
         "5000.0",
         "8500.0"
        ],
        [
         "4",
         "apple",
         "software engineer",
         "Software",
         "4.0",
         "3.0",
         "110000.0",
         "5000.0",
         "7000.0"
        ],
        [
         "5",
         "casino",
         "it technician",
         "Other",
         "5.0",
         "1.5",
         "40000.0",
         "0.0",
         "500.0"
        ],
        [
         "6",
         "tetra tech",
         "lead interviewer",
         "Other",
         "4.0",
         "2.5",
         "45000.0",
         "0.0",
         "1500.0"
        ],
        [
         "7",
         "knewton",
         "senior software engineer",
         "Software",
         "8.0",
         "2.0",
         "135000.0",
         "0.0",
         "0.0"
        ],
        [
         "8",
         "amplify",
         "software engineer",
         "Software",
         "2.0",
         "1.0",
         "105000.0",
         "0.0",
         "47000.0"
        ],
        [
         "9",
         "sqor",
         "infrastructure/platform engineer",
         "Engineering",
         "1.0",
         "1.0",
         "80000.0",
         "0.0",
         "0.0"
        ],
        [
         "10",
         "pensco trust company",
         "senior software engineer",
         "Software",
         "10.0",
         "1.5",
         "120000.0",
         "0.0",
         "6000.0"
        ],
        [
         "11",
         "thoughtworks",
         "software developer, consultant",
         "Software",
         "2.0",
         "2.0",
         "78000.0",
         "0.0",
         "0.0"
        ],
        [
         "12",
         "purdue",
         "web developer",
         "Web",
         "2.0",
         "1.5",
         "60000.0",
         "0.0",
         "0.0"
        ],
        [
         "13",
         "small b2b company",
         "analyst",
         "Data",
         "4.0",
         "1.0",
         "63000.0",
         "0.0",
         "2000.0"
        ],
        [
         "14",
         "small b2b company",
         "analyst",
         "Data",
         "4.0",
         "1.0",
         "63000.0",
         "0.0",
         "2000.0"
        ],
        [
         "15",
         "sqli",
         "it project manager",
         "Management",
         "8.0",
         "3.0",
         "38.0",
         "0.0",
         "0.0"
        ],
        [
         "16",
         "slalom",
         "senior engineer",
         "Engineering",
         "5.0",
         "1.0",
         "93000.0",
         "0.0",
         "15000.0"
        ],
        [
         "17",
         "magento commerce",
         "member of technical staff",
         "Other",
         "19.0",
         "1.0",
         "131000.0",
         "0.0",
         "0.0"
        ],
        [
         "18",
         "oracle",
         "student intern co-op",
         "Other",
         "0.0",
         "0.0",
         "24.0",
         "0.0",
         "0.0"
        ],
        [
         "19",
         "klick",
         "full stack developer",
         "Web",
         "5.0",
         "3.0",
         "85000.0",
         "0.0",
         "5000.0"
        ],
        [
         "20",
         "small consulting shop",
         "developer",
         "Software",
         "10.0",
         "3.5",
         "150000.0",
         "0.0",
         "0.0"
        ],
        [
         "21",
         "amazon",
         "sde1",
         "Software",
         "0.0",
         "0.0",
         "95000.0",
         "20000.0",
         "0.0"
        ],
        [
         "22",
         "nbc universal",
         "senior analyst",
         "Data",
         "2.0",
         "1.5",
         "55000.0",
         "0.0",
         "0.0"
        ],
        [
         "23",
         "30 person startup",
         "software engineer",
         "Software",
         "5.0",
         "2.0",
         "125000.0",
         "0.0",
         "0.0"
        ],
        [
         "24",
         "liveops",
         "sr engineer",
         "Engineering",
         "6.0",
         "3.0",
         "145000.0",
         "0.0",
         "20000.0"
        ],
        [
         "25",
         "expedia",
         "software engineer",
         "Software",
         "7.0",
         "2.5",
         "78000.0",
         "5000.0",
         "4000.0"
        ],
        [
         "26",
         "quick left",
         "senior developer",
         "Software",
         "6.0",
         "1.0",
         "120000.0",
         "0.0",
         "0.0"
        ],
        [
         "27",
         "1&1 development srl",
         "software developer",
         "Software",
         "5.0",
         "2.0",
         "17264.0",
         "0.0",
         "0.0"
        ],
        [
         "28",
         "early-stage startup",
         "ios developer",
         "Software",
         "8.0",
         "0.8",
         "36.5",
         "0.0",
         "0.0"
        ],
        [
         "29",
         "rei systems",
         "associate software engineer",
         "Software",
         "1.0",
         "1.0",
         "55000.0",
         "0.0",
         "0.0"
        ],
        [
         "30",
         "mitsubishi hitachi power systems america",
         "steam turbine service engineer",
         "Engineering",
         "4.0",
         "1.0",
         "80001.0",
         "10000.0",
         "0.0"
        ],
        [
         "31",
         "startup",
         "senior engineer",
         "Engineering",
         "8.0",
         "3.0",
         "100000.0",
         "0.0",
         "0.0"
        ],
        [
         "32",
         "sf startup",
         "web developer",
         "Web",
         "5.0",
         "0.5",
         "125000.0",
         "5000.0",
         "10.0"
        ],
        [
         "33",
         "intel",
         "product development engineer",
         "Software",
         "2.5",
         "2.5",
         "82000.0",
         "0.0",
         "0.0"
        ],
        [
         "34",
         "city of austin",
         "it programmer",
         "Other",
         "40.0",
         "15.0",
         "103000.0",
         "0.0",
         "1500.0"
        ],
        [
         "35",
         "early-stage startup",
         "director of product",
         "Management",
         "5.0",
         "3.0",
         "80000.0",
         "0.0",
         "0.0"
        ],
        [
         "36",
         "social tables",
         "engineer",
         "Engineering",
         "2.0",
         "1.0",
         "80000.0",
         "5000.0",
         "0.0"
        ],
        [
         "37",
         "loyalty new zealand",
         "software engineer",
         "Software",
         "2.0",
         "2.0",
         "50000.0",
         "0.0",
         "5000.0"
        ],
        [
         "38",
         "freelance",
         "software engineer",
         "Software",
         "20.0",
         "11.0",
         "190000.0",
         "0.0",
         "0.0"
        ],
        [
         "39",
         ".gov",
         "architect",
         "Other",
         "18.0",
         "16.0",
         "119000.0",
         "0.0",
         "2000.0"
        ],
        [
         "40",
         "hedge fund",
         "investment professional",
         "Other",
         "10.0",
         "3.5",
         "500000.0",
         "50000.0",
         "250000.0"
        ],
        [
         "41",
         "twilio",
         "software engineer new grad",
         "Software",
         "1.0",
         "1.0",
         "115000.0",
         "10000.0",
         "0.0"
        ],
        [
         "42",
         "stronghold data",
         "teir two tech",
         "Other",
         "9.0",
         "4.0",
         "38000.0",
         "0.0",
         "1000.0"
        ],
        [
         "43",
         "self-employed",
         "consultant, cto as needed",
         "Other",
         "8.0",
         "1.0",
         "325000.0",
         "0.0",
         "0.0"
        ],
        [
         "44",
         "employer x",
         "web developer",
         "Web",
         "8.0",
         "2.0",
         "100000.0",
         "0.0",
         "0.0"
        ],
        [
         "45",
         "financial sector",
         "software analyst",
         "Data",
         "2.0",
         "1.0",
         "23000.0",
         "0.0",
         "500.0"
        ],
        [
         "46",
         "comcast",
         "python engineer",
         "Engineering",
         "5.0",
         "1.0",
         "138000.0",
         "0.0",
         "0.0"
        ],
        [
         "47",
         "linkedin",
         "site reliability engineer",
         "Engineering",
         "4.0",
         "1.0",
         "140000.0",
         "0.0",
         "14000.0"
        ],
        [
         "48",
         "nara logics",
         "software developer",
         "Software",
         "12.0",
         "4.0",
         "115000.0",
         "0.0",
         "0.0"
        ],
        [
         "49",
         "cloudflare",
         "solution eningeer",
         "Other",
         "7.0",
         "3.0",
         "83000.0",
         "0.0",
         "25000.0"
        ]
       ],
       "shape": {
        "columns": 8,
        "rows": 1642
       }
      },
      "text/html": [
       "<div>\n",
       "<style scoped>\n",
       "    .dataframe tbody tr th:only-of-type {\n",
       "        vertical-align: middle;\n",
       "    }\n",
       "\n",
       "    .dataframe tbody tr th {\n",
       "        vertical-align: top;\n",
       "    }\n",
       "\n",
       "    .dataframe thead th {\n",
       "        text-align: right;\n",
       "    }\n",
       "</style>\n",
       "<table border=\"1\" class=\"dataframe\">\n",
       "  <thead>\n",
       "    <tr style=\"text-align: right;\">\n",
       "      <th></th>\n",
       "      <th>employer_name</th>\n",
       "      <th>job_title</th>\n",
       "      <th>job_title_category</th>\n",
       "      <th>total_experience_years</th>\n",
       "      <th>employer_experience_years</th>\n",
       "      <th>annual_base_pay</th>\n",
       "      <th>signing_bonus</th>\n",
       "      <th>annual_bonus</th>\n",
       "    </tr>\n",
       "  </thead>\n",
       "  <tbody>\n",
       "    <tr>\n",
       "      <th>0</th>\n",
       "      <td>opower</td>\n",
       "      <td>systems engineer</td>\n",
       "      <td>Engineering</td>\n",
       "      <td>13</td>\n",
       "      <td>2</td>\n",
       "      <td>125000</td>\n",
       "      <td>5000</td>\n",
       "      <td>0</td>\n",
       "    </tr>\n",
       "    <tr>\n",
       "      <th>1</th>\n",
       "      <td>walmart</td>\n",
       "      <td>senior developer</td>\n",
       "      <td>Software</td>\n",
       "      <td>15</td>\n",
       "      <td>8</td>\n",
       "      <td>65000</td>\n",
       "      <td>0</td>\n",
       "      <td>5000</td>\n",
       "    </tr>\n",
       "    <tr>\n",
       "      <th>2</th>\n",
       "      <td>vertical knowledge</td>\n",
       "      <td>software engineer</td>\n",
       "      <td>Software</td>\n",
       "      <td>4</td>\n",
       "      <td>1</td>\n",
       "      <td>86000</td>\n",
       "      <td>5000</td>\n",
       "      <td>6000</td>\n",
       "    </tr>\n",
       "    <tr>\n",
       "      <th>3</th>\n",
       "      <td>netapp</td>\n",
       "      <td>mts</td>\n",
       "      <td>Other</td>\n",
       "      <td>4</td>\n",
       "      <td>0</td>\n",
       "      <td>105000</td>\n",
       "      <td>5000</td>\n",
       "      <td>8500</td>\n",
       "    </tr>\n",
       "    <tr>\n",
       "      <th>4</th>\n",
       "      <td>apple</td>\n",
       "      <td>software engineer</td>\n",
       "      <td>Software</td>\n",
       "      <td>4</td>\n",
       "      <td>3</td>\n",
       "      <td>110000</td>\n",
       "      <td>5000</td>\n",
       "      <td>7000</td>\n",
       "    </tr>\n",
       "    <tr>\n",
       "      <th>...</th>\n",
       "      <td>...</td>\n",
       "      <td>...</td>\n",
       "      <td>...</td>\n",
       "      <td>...</td>\n",
       "      <td>...</td>\n",
       "      <td>...</td>\n",
       "      <td>...</td>\n",
       "      <td>...</td>\n",
       "    </tr>\n",
       "    <tr>\n",
       "      <th>1650</th>\n",
       "      <td>sparkfun electronics</td>\n",
       "      <td>junior software developer</td>\n",
       "      <td>Software</td>\n",
       "      <td>1</td>\n",
       "      <td>0</td>\n",
       "      <td>60500</td>\n",
       "      <td>0</td>\n",
       "      <td>800</td>\n",
       "    </tr>\n",
       "    <tr>\n",
       "      <th>1651</th>\n",
       "      <td>intel</td>\n",
       "      <td>staff software enginer</td>\n",
       "      <td>Software</td>\n",
       "      <td>6</td>\n",
       "      <td>4</td>\n",
       "      <td>164000</td>\n",
       "      <td>0</td>\n",
       "      <td>20000</td>\n",
       "    </tr>\n",
       "    <tr>\n",
       "      <th>1652</th>\n",
       "      <td>$2bn valuation tech company</td>\n",
       "      <td>sr. frontend eng</td>\n",
       "      <td>Web</td>\n",
       "      <td>7</td>\n",
       "      <td>1</td>\n",
       "      <td>150000</td>\n",
       "      <td>0</td>\n",
       "      <td>0</td>\n",
       "    </tr>\n",
       "    <tr>\n",
       "      <th>1653</th>\n",
       "      <td>of maryland</td>\n",
       "      <td>scientific programmer (faculty research assist...</td>\n",
       "      <td>Applied Science</td>\n",
       "      <td>5</td>\n",
       "      <td>1</td>\n",
       "      <td>75000</td>\n",
       "      <td>0</td>\n",
       "      <td>0</td>\n",
       "    </tr>\n",
       "    <tr>\n",
       "      <th>1654</th>\n",
       "      <td>linkedin</td>\n",
       "      <td>business analytics intern</td>\n",
       "      <td>Other</td>\n",
       "      <td>2</td>\n",
       "      <td>0</td>\n",
       "      <td>50</td>\n",
       "      <td>0</td>\n",
       "      <td>0</td>\n",
       "    </tr>\n",
       "  </tbody>\n",
       "</table>\n",
       "<p>1642 rows × 8 columns</p>\n",
       "</div>"
      ],
      "text/plain": [
       "                    employer_name  \\\n",
       "0                          opower   \n",
       "1                         walmart   \n",
       "2              vertical knowledge   \n",
       "3                          netapp   \n",
       "4                           apple   \n",
       "...                           ...   \n",
       "1650         sparkfun electronics   \n",
       "1651                        intel   \n",
       "1652  $2bn valuation tech company   \n",
       "1653                  of maryland   \n",
       "1654                     linkedin   \n",
       "\n",
       "                                              job_title job_title_category  \\\n",
       "0                                      systems engineer        Engineering   \n",
       "1                                      senior developer           Software   \n",
       "2                                     software engineer           Software   \n",
       "3                                                   mts              Other   \n",
       "4                                     software engineer           Software   \n",
       "...                                                 ...                ...   \n",
       "1650                          junior software developer           Software   \n",
       "1651                             staff software enginer           Software   \n",
       "1652                                   sr. frontend eng                Web   \n",
       "1653  scientific programmer (faculty research assist...    Applied Science   \n",
       "1654                          business analytics intern              Other   \n",
       "\n",
       "      total_experience_years  employer_experience_years  annual_base_pay  \\\n",
       "0                         13                          2           125000   \n",
       "1                         15                          8            65000   \n",
       "2                          4                          1            86000   \n",
       "3                          4                          0           105000   \n",
       "4                          4                          3           110000   \n",
       "...                      ...                        ...              ...   \n",
       "1650                       1                          0            60500   \n",
       "1651                       6                          4           164000   \n",
       "1652                       7                          1           150000   \n",
       "1653                       5                          1            75000   \n",
       "1654                       2                          0               50   \n",
       "\n",
       "      signing_bonus  annual_bonus  \n",
       "0              5000             0  \n",
       "1                 0          5000  \n",
       "2              5000          6000  \n",
       "3              5000          8500  \n",
       "4              5000          7000  \n",
       "...             ...           ...  \n",
       "1650              0           800  \n",
       "1651              0         20000  \n",
       "1652              0             0  \n",
       "1653              0             0  \n",
       "1654              0             0  \n",
       "\n",
       "[1642 rows x 8 columns]"
      ]
     },
     "execution_count": 25,
     "metadata": {},
     "output_type": "execute_result"
    }
   ],
   "source": [
    "df"
   ]
  },
  {
   "cell_type": "code",
   "execution_count": 26,
   "id": "7191f40b",
   "metadata": {},
   "outputs": [
    {
     "data": {
      "text/plain": [
       "18           24\n",
       "306          28\n",
       "1017         30\n",
       "744          30\n",
       "619          31\n",
       "         ...   \n",
       "1191    7500000\n",
       "298     9000000\n",
       "221     9250000\n",
       "1088   10280000\n",
       "1639   50000000\n",
       "Name: annual_base_pay, Length: 1642, dtype: float64"
      ]
     },
     "execution_count": 26,
     "metadata": {},
     "output_type": "execute_result"
    }
   ],
   "source": [
    "df[\"annual_base_pay\"].sort_values()"
   ]
  },
  {
   "cell_type": "markdown",
   "id": "4a9db40a",
   "metadata": {},
   "source": [
    "# Scatter Plots"
   ]
  },
  {
   "cell_type": "code",
   "execution_count": 27,
   "id": "57d9f576",
   "metadata": {},
   "outputs": [
    {
     "data": {
      "text/plain": [
       "Index(['employer_name', 'job_title', 'job_title_category',\n",
       "       'total_experience_years', 'employer_experience_years',\n",
       "       'annual_base_pay', 'signing_bonus', 'annual_bonus'],\n",
       "      dtype='object')"
      ]
     },
     "execution_count": 27,
     "metadata": {},
     "output_type": "execute_result"
    }
   ],
   "source": [
    "df.columns"
   ]
  },
  {
   "cell_type": "code",
   "execution_count": 28,
   "id": "76eab422",
   "metadata": {},
   "outputs": [],
   "source": [
    "df.rename(columns = {\n",
    "    'employer_name':'company',\n",
    "    'job_title':'title',\n",
    "    'job_title_category':'category',\n",
    "    'total_experience_years':'total_exp',\n",
    "    'employer_experience_years':'local_exp',\n",
    "    'annual_base_pay':'salary'\n",
    "}, inplace = True)\n"
   ]
  },
  {
   "cell_type": "code",
   "execution_count": 29,
   "id": "faaa13e0",
   "metadata": {},
   "outputs": [
    {
     "data": {
      "application/vnd.microsoft.datawrangler.viewer.v0+json": {
       "columns": [
        {
         "name": "index",
         "rawType": "int64",
         "type": "integer"
        },
        {
         "name": "company",
         "rawType": "object",
         "type": "string"
        },
        {
         "name": "title",
         "rawType": "object",
         "type": "string"
        },
        {
         "name": "category",
         "rawType": "object",
         "type": "string"
        },
        {
         "name": "total_exp",
         "rawType": "float64",
         "type": "float"
        },
        {
         "name": "local_exp",
         "rawType": "float64",
         "type": "float"
        },
        {
         "name": "salary",
         "rawType": "float64",
         "type": "float"
        },
        {
         "name": "signing_bonus",
         "rawType": "float64",
         "type": "float"
        },
        {
         "name": "annual_bonus",
         "rawType": "float64",
         "type": "float"
        }
       ],
       "conversionMethod": "pd.DataFrame",
       "ref": "750e8aa7-c9ac-4a8b-8aee-35072ec00504",
       "rows": [
        [
         "1654",
         "linkedin",
         "business analytics intern",
         "Other",
         "2.0",
         "0.0",
         "50.0",
         "0.0",
         "0.0"
        ]
       ],
       "shape": {
        "columns": 8,
        "rows": 1
       }
      },
      "text/html": [
       "<div>\n",
       "<style scoped>\n",
       "    .dataframe tbody tr th:only-of-type {\n",
       "        vertical-align: middle;\n",
       "    }\n",
       "\n",
       "    .dataframe tbody tr th {\n",
       "        vertical-align: top;\n",
       "    }\n",
       "\n",
       "    .dataframe thead th {\n",
       "        text-align: right;\n",
       "    }\n",
       "</style>\n",
       "<table border=\"1\" class=\"dataframe\">\n",
       "  <thead>\n",
       "    <tr style=\"text-align: right;\">\n",
       "      <th></th>\n",
       "      <th>company</th>\n",
       "      <th>title</th>\n",
       "      <th>category</th>\n",
       "      <th>total_exp</th>\n",
       "      <th>local_exp</th>\n",
       "      <th>salary</th>\n",
       "      <th>signing_bonus</th>\n",
       "      <th>annual_bonus</th>\n",
       "    </tr>\n",
       "  </thead>\n",
       "  <tbody>\n",
       "    <tr>\n",
       "      <th>1654</th>\n",
       "      <td>linkedin</td>\n",
       "      <td>business analytics intern</td>\n",
       "      <td>Other</td>\n",
       "      <td>2</td>\n",
       "      <td>0</td>\n",
       "      <td>50</td>\n",
       "      <td>0</td>\n",
       "      <td>0</td>\n",
       "    </tr>\n",
       "  </tbody>\n",
       "</table>\n",
       "</div>"
      ],
      "text/plain": [
       "       company                      title category  total_exp  local_exp  \\\n",
       "1654  linkedin  business analytics intern    Other          2          0   \n",
       "\n",
       "      salary  signing_bonus  annual_bonus  \n",
       "1654      50              0             0  "
      ]
     },
     "execution_count": 29,
     "metadata": {},
     "output_type": "execute_result"
    }
   ],
   "source": [
    "df.tail(1)"
   ]
  },
  {
   "cell_type": "code",
   "execution_count": 30,
   "id": "f8f00065",
   "metadata": {},
   "outputs": [
    {
     "data": {
      "text/plain": [
       "<Axes: xlabel='total_exp', ylabel='local_exp'>"
      ]
     },
     "execution_count": 30,
     "metadata": {},
     "output_type": "execute_result"
    },
    {
     "data": {
      "image/png": "[encoded data removed]",
      "text/plain": [
       "<Figure size 640x480 with 1 Axes>"
      ]
     },
     "metadata": {},
     "output_type": "display_data"
    }
   ],
   "source": [
    "sns.scatterplot(data=df, x=\"total_exp\", y=\"local_exp\")"
   ]
  },
  {
   "cell_type": "markdown",
   "id": "d19918e1",
   "metadata": {},
   "source": [
    "## Hatalı Veri Analizi ve Temizleme"
   ]
  },
  {
   "cell_type": "code",
   "execution_count": 31,
   "id": "6de42ae3",
   "metadata": {},
   "outputs": [
    {
     "data": {
      "text/plain": [
       "1596"
      ]
     },
     "execution_count": 31,
     "metadata": {},
     "output_type": "execute_result"
    }
   ],
   "source": [
    "df[\"local_exp\"].idxmax()"
   ]
  },
  {
   "cell_type": "code",
   "execution_count": 32,
   "id": "8fe3d75a",
   "metadata": {},
   "outputs": [
    {
     "data": {
      "application/vnd.microsoft.datawrangler.viewer.v0+json": {
       "columns": [
        {
         "name": "index",
         "rawType": "int64",
         "type": "integer"
        },
        {
         "name": "company",
         "rawType": "object",
         "type": "string"
        },
        {
         "name": "title",
         "rawType": "object",
         "type": "string"
        },
        {
         "name": "category",
         "rawType": "object",
         "type": "string"
        },
        {
         "name": "total_exp",
         "rawType": "float64",
         "type": "float"
        },
        {
         "name": "local_exp",
         "rawType": "float64",
         "type": "float"
        },
        {
         "name": "salary",
         "rawType": "float64",
         "type": "float"
        },
        {
         "name": "signing_bonus",
         "rawType": "float64",
         "type": "float"
        },
        {
         "name": "annual_bonus",
         "rawType": "float64",
         "type": "float"
        }
       ],
       "conversionMethod": "pd.DataFrame",
       "ref": "3c02b8dc-f6c2-4bbb-ac4b-de7e54a12900",
       "rows": [
        [
         "1596",
         "tom",
         "tom",
         "Other",
         "25.0",
         "58.0",
         "250000.0",
         "250478.0",
         "150000.0"
        ]
       ],
       "shape": {
        "columns": 8,
        "rows": 1
       }
      },
      "text/html": [
       "<div>\n",
       "<style scoped>\n",
       "    .dataframe tbody tr th:only-of-type {\n",
       "        vertical-align: middle;\n",
       "    }\n",
       "\n",
       "    .dataframe tbody tr th {\n",
       "        vertical-align: top;\n",
       "    }\n",
       "\n",
       "    .dataframe thead th {\n",
       "        text-align: right;\n",
       "    }\n",
       "</style>\n",
       "<table border=\"1\" class=\"dataframe\">\n",
       "  <thead>\n",
       "    <tr style=\"text-align: right;\">\n",
       "      <th></th>\n",
       "      <th>company</th>\n",
       "      <th>title</th>\n",
       "      <th>category</th>\n",
       "      <th>total_exp</th>\n",
       "      <th>local_exp</th>\n",
       "      <th>salary</th>\n",
       "      <th>signing_bonus</th>\n",
       "      <th>annual_bonus</th>\n",
       "    </tr>\n",
       "  </thead>\n",
       "  <tbody>\n",
       "    <tr>\n",
       "      <th>1596</th>\n",
       "      <td>tom</td>\n",
       "      <td>tom</td>\n",
       "      <td>Other</td>\n",
       "      <td>25</td>\n",
       "      <td>58</td>\n",
       "      <td>250000</td>\n",
       "      <td>250478</td>\n",
       "      <td>150000</td>\n",
       "    </tr>\n",
       "  </tbody>\n",
       "</table>\n",
       "</div>"
      ],
      "text/plain": [
       "     company title category  total_exp  local_exp  salary  signing_bonus  \\\n",
       "1596     tom   tom    Other         25         58  250000         250478   \n",
       "\n",
       "      annual_bonus  \n",
       "1596        150000  "
      ]
     },
     "execution_count": 32,
     "metadata": {},
     "output_type": "execute_result"
    }
   ],
   "source": [
    "df.loc[1596:1596]"
   ]
  },
  {
   "cell_type": "code",
   "execution_count": 33,
   "id": "24cebd31",
   "metadata": {},
   "outputs": [
    {
     "data": {
      "application/vnd.microsoft.datawrangler.viewer.v0+json": {
       "columns": [
        {
         "name": "index",
         "rawType": "int64",
         "type": "integer"
        },
        {
         "name": "company",
         "rawType": "object",
         "type": "string"
        },
        {
         "name": "title",
         "rawType": "object",
         "type": "string"
        },
        {
         "name": "category",
         "rawType": "object",
         "type": "string"
        },
        {
         "name": "total_exp",
         "rawType": "float64",
         "type": "float"
        },
        {
         "name": "local_exp",
         "rawType": "float64",
         "type": "float"
        },
        {
         "name": "salary",
         "rawType": "float64",
         "type": "float"
        },
        {
         "name": "signing_bonus",
         "rawType": "float64",
         "type": "float"
        },
        {
         "name": "annual_bonus",
         "rawType": "float64",
         "type": "float"
        }
       ],
       "conversionMethod": "pd.DataFrame",
       "ref": "7b494858-0b66-4cc6-9d12-65f70ff67630",
       "rows": [
        [
         "339",
         "airbnb",
         "software engineer",
         "Software",
         "0.0",
         "1.0",
         "110000.0",
         "50000.0",
         "0.0"
        ],
        [
         "347",
         "microsoft",
         "software engineer",
         "Software",
         "1.0",
         "2.0",
         "120000.0",
         "200000.0",
         "0.0"
        ],
        [
         "447",
         "johns hopkins",
         "phd student",
         "Other",
         "2.0",
         "4.0",
         "24000.0",
         "0.0",
         "0.0"
        ],
        [
         "605",
         "la michoacana",
         "servidor de aguas",
         "Other",
         "3.0",
         "7.0",
         "48000.0",
         "0.0",
         "0.0"
        ]
       ],
       "shape": {
        "columns": 8,
        "rows": 4
       }
      },
      "text/html": [
       "<div>\n",
       "<style scoped>\n",
       "    .dataframe tbody tr th:only-of-type {\n",
       "        vertical-align: middle;\n",
       "    }\n",
       "\n",
       "    .dataframe tbody tr th {\n",
       "        vertical-align: top;\n",
       "    }\n",
       "\n",
       "    .dataframe thead th {\n",
       "        text-align: right;\n",
       "    }\n",
       "</style>\n",
       "<table border=\"1\" class=\"dataframe\">\n",
       "  <thead>\n",
       "    <tr style=\"text-align: right;\">\n",
       "      <th></th>\n",
       "      <th>company</th>\n",
       "      <th>title</th>\n",
       "      <th>category</th>\n",
       "      <th>total_exp</th>\n",
       "      <th>local_exp</th>\n",
       "      <th>salary</th>\n",
       "      <th>signing_bonus</th>\n",
       "      <th>annual_bonus</th>\n",
       "    </tr>\n",
       "  </thead>\n",
       "  <tbody>\n",
       "    <tr>\n",
       "      <th>339</th>\n",
       "      <td>airbnb</td>\n",
       "      <td>software engineer</td>\n",
       "      <td>Software</td>\n",
       "      <td>0</td>\n",
       "      <td>1</td>\n",
       "      <td>110000</td>\n",
       "      <td>50000</td>\n",
       "      <td>0</td>\n",
       "    </tr>\n",
       "    <tr>\n",
       "      <th>347</th>\n",
       "      <td>microsoft</td>\n",
       "      <td>software engineer</td>\n",
       "      <td>Software</td>\n",
       "      <td>1</td>\n",
       "      <td>2</td>\n",
       "      <td>120000</td>\n",
       "      <td>200000</td>\n",
       "      <td>0</td>\n",
       "    </tr>\n",
       "    <tr>\n",
       "      <th>447</th>\n",
       "      <td>johns hopkins</td>\n",
       "      <td>phd student</td>\n",
       "      <td>Other</td>\n",
       "      <td>2</td>\n",
       "      <td>4</td>\n",
       "      <td>24000</td>\n",
       "      <td>0</td>\n",
       "      <td>0</td>\n",
       "    </tr>\n",
       "    <tr>\n",
       "      <th>605</th>\n",
       "      <td>la michoacana</td>\n",
       "      <td>servidor de aguas</td>\n",
       "      <td>Other</td>\n",
       "      <td>3</td>\n",
       "      <td>7</td>\n",
       "      <td>48000</td>\n",
       "      <td>0</td>\n",
       "      <td>0</td>\n",
       "    </tr>\n",
       "  </tbody>\n",
       "</table>\n",
       "</div>"
      ],
      "text/plain": [
       "           company              title  category  total_exp  local_exp  salary  \\\n",
       "339         airbnb  software engineer  Software          0          1  110000   \n",
       "347      microsoft  software engineer  Software          1          2  120000   \n",
       "447  johns hopkins        phd student     Other          2          4   24000   \n",
       "605  la michoacana  servidor de aguas     Other          3          7   48000   \n",
       "\n",
       "     signing_bonus  annual_bonus  \n",
       "339          50000             0  \n",
       "347         200000             0  \n",
       "447              0             0  \n",
       "605              0             0  "
      ]
     },
     "execution_count": 33,
     "metadata": {},
     "output_type": "execute_result"
    }
   ],
   "source": [
    "df[df[\"local_exp\"]>df[\"total_exp\"]].iloc[8:12]"
   ]
  },
  {
   "cell_type": "code",
   "execution_count": 34,
   "id": "a09fc098",
   "metadata": {},
   "outputs": [],
   "source": [
    "df=df[(df[\"local_exp\"]-1)<df[\"total_exp\"]]"
   ]
  },
  {
   "cell_type": "code",
   "execution_count": 36,
   "id": "5ab5732f",
   "metadata": {},
   "outputs": [
    {
     "data": {
      "text/plain": [
       "<Axes: xlabel='total_exp', ylabel='local_exp'>"
      ]
     },
     "execution_count": 36,
     "metadata": {},
     "output_type": "execute_result"
    },
    {
     "data": {
      "image/png": "[encoded data removed]",
      "text/plain": [
       "<Figure size 640x480 with 1 Axes>"
      ]
     },
     "metadata": {},
     "output_type": "display_data"
    }
   ],
   "source": [
    "sns.scatterplot(data=df, x=\"total_exp\", y=\"local_exp\")"
   ]
  },
  {
   "cell_type": "code",
   "execution_count": 37,
   "id": "26cafe85",
   "metadata": {},
   "outputs": [
    {
     "data": {
      "application/vnd.microsoft.datawrangler.viewer.v0+json": {
       "columns": [
        {
         "name": "index",
         "rawType": "int64",
         "type": "integer"
        },
        {
         "name": "company",
         "rawType": "object",
         "type": "string"
        },
        {
         "name": "title",
         "rawType": "object",
         "type": "string"
        },
        {
         "name": "category",
         "rawType": "object",
         "type": "string"
        },
        {
         "name": "total_exp",
         "rawType": "float64",
         "type": "float"
        },
        {
         "name": "local_exp",
         "rawType": "float64",
         "type": "float"
        },
        {
         "name": "salary",
         "rawType": "float64",
         "type": "float"
        },
        {
         "name": "signing_bonus",
         "rawType": "float64",
         "type": "float"
        },
        {
         "name": "annual_bonus",
         "rawType": "float64",
         "type": "float"
        }
       ],
       "conversionMethod": "pd.DataFrame",
       "ref": "4f3603b9-bd5b-4829-a535-416463566887",
       "rows": [
        [
         "34",
         "city of austin",
         "it programmer",
         "Other",
         "40.0",
         "15.0",
         "103000.0",
         "0.0",
         "1500.0"
        ],
        [
         "239",
         "dukker",
         "professional hoe",
         "Other",
         "55.0",
         "40.0",
         "120.0",
         "120.0",
         "12.0"
        ],
        [
         "335",
         "gg",
         "pres",
         "Other",
         "35.0",
         "20.0",
         "75000.0",
         "2000.0",
         "3000.0"
        ],
        [
         "970",
         "ibm",
         "advisory software engineer",
         "Software",
         "32.0",
         "11.0",
         "111000.0",
         "0.0",
         "1200.0"
        ],
        [
         "1422",
         "ghgh",
         "ghghgh",
         "Other",
         "56.0",
         "3.0",
         "565656.0",
         "5656.0",
         "566.0"
        ],
        [
         "1550",
         "hewlett packard enterprise",
         "software engineer vii",
         "Software",
         "36.0",
         "6.0",
         "206000.0",
         "0.0",
         "15000.0"
        ],
        [
         "1555",
         "ãÜ___¡",
         "asdf",
         "Other",
         "43.0",
         "24.0",
         "23423.0",
         "234.0",
         "2.0"
        ]
       ],
       "shape": {
        "columns": 8,
        "rows": 7
       }
      },
      "text/html": [
       "<div>\n",
       "<style scoped>\n",
       "    .dataframe tbody tr th:only-of-type {\n",
       "        vertical-align: middle;\n",
       "    }\n",
       "\n",
       "    .dataframe tbody tr th {\n",
       "        vertical-align: top;\n",
       "    }\n",
       "\n",
       "    .dataframe thead th {\n",
       "        text-align: right;\n",
       "    }\n",
       "</style>\n",
       "<table border=\"1\" class=\"dataframe\">\n",
       "  <thead>\n",
       "    <tr style=\"text-align: right;\">\n",
       "      <th></th>\n",
       "      <th>company</th>\n",
       "      <th>title</th>\n",
       "      <th>category</th>\n",
       "      <th>total_exp</th>\n",
       "      <th>local_exp</th>\n",
       "      <th>salary</th>\n",
       "      <th>signing_bonus</th>\n",
       "      <th>annual_bonus</th>\n",
       "    </tr>\n",
       "  </thead>\n",
       "  <tbody>\n",
       "    <tr>\n",
       "      <th>34</th>\n",
       "      <td>city of austin</td>\n",
       "      <td>it programmer</td>\n",
       "      <td>Other</td>\n",
       "      <td>40</td>\n",
       "      <td>15</td>\n",
       "      <td>103000</td>\n",
       "      <td>0</td>\n",
       "      <td>1500</td>\n",
       "    </tr>\n",
       "    <tr>\n",
       "      <th>239</th>\n",
       "      <td>dukker</td>\n",
       "      <td>professional hoe</td>\n",
       "      <td>Other</td>\n",
       "      <td>55</td>\n",
       "      <td>40</td>\n",
       "      <td>120</td>\n",
       "      <td>120</td>\n",
       "      <td>12</td>\n",
       "    </tr>\n",
       "    <tr>\n",
       "      <th>335</th>\n",
       "      <td>gg</td>\n",
       "      <td>pres</td>\n",
       "      <td>Other</td>\n",
       "      <td>35</td>\n",
       "      <td>20</td>\n",
       "      <td>75000</td>\n",
       "      <td>2000</td>\n",
       "      <td>3000</td>\n",
       "    </tr>\n",
       "    <tr>\n",
       "      <th>970</th>\n",
       "      <td>ibm</td>\n",
       "      <td>advisory software engineer</td>\n",
       "      <td>Software</td>\n",
       "      <td>32</td>\n",
       "      <td>11</td>\n",
       "      <td>111000</td>\n",
       "      <td>0</td>\n",
       "      <td>1200</td>\n",
       "    </tr>\n",
       "    <tr>\n",
       "      <th>1422</th>\n",
       "      <td>ghgh</td>\n",
       "      <td>ghghgh</td>\n",
       "      <td>Other</td>\n",
       "      <td>56</td>\n",
       "      <td>3</td>\n",
       "      <td>565656</td>\n",
       "      <td>5656</td>\n",
       "      <td>566</td>\n",
       "    </tr>\n",
       "    <tr>\n",
       "      <th>1550</th>\n",
       "      <td>hewlett packard enterprise</td>\n",
       "      <td>software engineer vii</td>\n",
       "      <td>Software</td>\n",
       "      <td>36</td>\n",
       "      <td>6</td>\n",
       "      <td>206000</td>\n",
       "      <td>0</td>\n",
       "      <td>15000</td>\n",
       "    </tr>\n",
       "    <tr>\n",
       "      <th>1555</th>\n",
       "      <td>ãÜ___¡</td>\n",
       "      <td>asdf</td>\n",
       "      <td>Other</td>\n",
       "      <td>43</td>\n",
       "      <td>24</td>\n",
       "      <td>23423</td>\n",
       "      <td>234</td>\n",
       "      <td>2</td>\n",
       "    </tr>\n",
       "  </tbody>\n",
       "</table>\n",
       "</div>"
      ],
      "text/plain": [
       "                         company                       title  category  \\\n",
       "34                city of austin               it programmer     Other   \n",
       "239                       dukker            professional hoe     Other   \n",
       "335                           gg                        pres     Other   \n",
       "970                          ibm  advisory software engineer  Software   \n",
       "1422                        ghgh                      ghghgh     Other   \n",
       "1550  hewlett packard enterprise       software engineer vii  Software   \n",
       "1555                    ãÜ___¡                        asdf     Other   \n",
       "\n",
       "      total_exp  local_exp  salary  signing_bonus  annual_bonus  \n",
       "34           40         15  103000              0          1500  \n",
       "239          55         40     120            120            12  \n",
       "335          35         20   75000           2000          3000  \n",
       "970          32         11  111000              0          1200  \n",
       "1422         56          3  565656           5656           566  \n",
       "1550         36          6  206000              0         15000  \n",
       "1555         43         24   23423            234             2  "
      ]
     },
     "execution_count": 37,
     "metadata": {},
     "output_type": "execute_result"
    }
   ],
   "source": [
    "df[df[\"total_exp\"]>30]"
   ]
  },
  {
   "cell_type": "code",
   "execution_count": 38,
   "id": "2a5d786a",
   "metadata": {},
   "outputs": [],
   "source": [
    "df=df.set_index(np.arange(0,len(df)))"
   ]
  },
  {
   "cell_type": "code",
   "execution_count": 39,
   "id": "225c095c",
   "metadata": {},
   "outputs": [
    {
     "data": {
      "application/vnd.microsoft.datawrangler.viewer.v0+json": {
       "columns": [
        {
         "name": "index",
         "rawType": "int32",
         "type": "integer"
        },
        {
         "name": "company",
         "rawType": "object",
         "type": "string"
        },
        {
         "name": "title",
         "rawType": "object",
         "type": "string"
        },
        {
         "name": "category",
         "rawType": "object",
         "type": "string"
        },
        {
         "name": "total_exp",
         "rawType": "float64",
         "type": "float"
        },
        {
         "name": "local_exp",
         "rawType": "float64",
         "type": "float"
        },
        {
         "name": "salary",
         "rawType": "float64",
         "type": "float"
        },
        {
         "name": "signing_bonus",
         "rawType": "float64",
         "type": "float"
        },
        {
         "name": "annual_bonus",
         "rawType": "float64",
         "type": "float"
        }
       ],
       "conversionMethod": "pd.DataFrame",
       "ref": "dc30feac-70a8-4e07-993c-651d642010e6",
       "rows": [
        [
         "34",
         "city of austin",
         "it programmer",
         "Other",
         "40.0",
         "15.0",
         "103000.0",
         "0.0",
         "1500.0"
        ],
        [
         "233",
         "dukker",
         "professional hoe",
         "Other",
         "55.0",
         "40.0",
         "120.0",
         "120.0",
         "12.0"
        ],
        [
         "328",
         "gg",
         "pres",
         "Other",
         "35.0",
         "20.0",
         "75000.0",
         "2000.0",
         "3000.0"
        ],
        [
         "940",
         "ibm",
         "advisory software engineer",
         "Software",
         "32.0",
         "11.0",
         "111000.0",
         "0.0",
         "1200.0"
        ],
        [
         "1378",
         "ghgh",
         "ghghgh",
         "Other",
         "56.0",
         "3.0",
         "565656.0",
         "5656.0",
         "566.0"
        ],
        [
         "1503",
         "hewlett packard enterprise",
         "software engineer vii",
         "Software",
         "36.0",
         "6.0",
         "206000.0",
         "0.0",
         "15000.0"
        ],
        [
         "1508",
         "ãÜ___¡",
         "asdf",
         "Other",
         "43.0",
         "24.0",
         "23423.0",
         "234.0",
         "2.0"
        ]
       ],
       "shape": {
        "columns": 8,
        "rows": 7
       }
      },
      "text/html": [
       "<div>\n",
       "<style scoped>\n",
       "    .dataframe tbody tr th:only-of-type {\n",
       "        vertical-align: middle;\n",
       "    }\n",
       "\n",
       "    .dataframe tbody tr th {\n",
       "        vertical-align: top;\n",
       "    }\n",
       "\n",
       "    .dataframe thead th {\n",
       "        text-align: right;\n",
       "    }\n",
       "</style>\n",
       "<table border=\"1\" class=\"dataframe\">\n",
       "  <thead>\n",
       "    <tr style=\"text-align: right;\">\n",
       "      <th></th>\n",
       "      <th>company</th>\n",
       "      <th>title</th>\n",
       "      <th>category</th>\n",
       "      <th>total_exp</th>\n",
       "      <th>local_exp</th>\n",
       "      <th>salary</th>\n",
       "      <th>signing_bonus</th>\n",
       "      <th>annual_bonus</th>\n",
       "    </tr>\n",
       "  </thead>\n",
       "  <tbody>\n",
       "    <tr>\n",
       "      <th>34</th>\n",
       "      <td>city of austin</td>\n",
       "      <td>it programmer</td>\n",
       "      <td>Other</td>\n",
       "      <td>40</td>\n",
       "      <td>15</td>\n",
       "      <td>103000</td>\n",
       "      <td>0</td>\n",
       "      <td>1500</td>\n",
       "    </tr>\n",
       "    <tr>\n",
       "      <th>233</th>\n",
       "      <td>dukker</td>\n",
       "      <td>professional hoe</td>\n",
       "      <td>Other</td>\n",
       "      <td>55</td>\n",
       "      <td>40</td>\n",
       "      <td>120</td>\n",
       "      <td>120</td>\n",
       "      <td>12</td>\n",
       "    </tr>\n",
       "    <tr>\n",
       "      <th>328</th>\n",
       "      <td>gg</td>\n",
       "      <td>pres</td>\n",
       "      <td>Other</td>\n",
       "      <td>35</td>\n",
       "      <td>20</td>\n",
       "      <td>75000</td>\n",
       "      <td>2000</td>\n",
       "      <td>3000</td>\n",
       "    </tr>\n",
       "    <tr>\n",
       "      <th>940</th>\n",
       "      <td>ibm</td>\n",
       "      <td>advisory software engineer</td>\n",
       "      <td>Software</td>\n",
       "      <td>32</td>\n",
       "      <td>11</td>\n",
       "      <td>111000</td>\n",
       "      <td>0</td>\n",
       "      <td>1200</td>\n",
       "    </tr>\n",
       "    <tr>\n",
       "      <th>1378</th>\n",
       "      <td>ghgh</td>\n",
       "      <td>ghghgh</td>\n",
       "      <td>Other</td>\n",
       "      <td>56</td>\n",
       "      <td>3</td>\n",
       "      <td>565656</td>\n",
       "      <td>5656</td>\n",
       "      <td>566</td>\n",
       "    </tr>\n",
       "    <tr>\n",
       "      <th>1503</th>\n",
       "      <td>hewlett packard enterprise</td>\n",
       "      <td>software engineer vii</td>\n",
       "      <td>Software</td>\n",
       "      <td>36</td>\n",
       "      <td>6</td>\n",
       "      <td>206000</td>\n",
       "      <td>0</td>\n",
       "      <td>15000</td>\n",
       "    </tr>\n",
       "    <tr>\n",
       "      <th>1508</th>\n",
       "      <td>ãÜ___¡</td>\n",
       "      <td>asdf</td>\n",
       "      <td>Other</td>\n",
       "      <td>43</td>\n",
       "      <td>24</td>\n",
       "      <td>23423</td>\n",
       "      <td>234</td>\n",
       "      <td>2</td>\n",
       "    </tr>\n",
       "  </tbody>\n",
       "</table>\n",
       "</div>"
      ],
      "text/plain": [
       "                         company                       title  category  \\\n",
       "34                city of austin               it programmer     Other   \n",
       "233                       dukker            professional hoe     Other   \n",
       "328                           gg                        pres     Other   \n",
       "940                          ibm  advisory software engineer  Software   \n",
       "1378                        ghgh                      ghghgh     Other   \n",
       "1503  hewlett packard enterprise       software engineer vii  Software   \n",
       "1508                    ãÜ___¡                        asdf     Other   \n",
       "\n",
       "      total_exp  local_exp  salary  signing_bonus  annual_bonus  \n",
       "34           40         15  103000              0          1500  \n",
       "233          55         40     120            120            12  \n",
       "328          35         20   75000           2000          3000  \n",
       "940          32         11  111000              0          1200  \n",
       "1378         56          3  565656           5656           566  \n",
       "1503         36          6  206000              0         15000  \n",
       "1508         43         24   23423            234             2  "
      ]
     },
     "execution_count": 39,
     "metadata": {},
     "output_type": "execute_result"
    }
   ],
   "source": [
    "df[df[\"total_exp\"]>30]"
   ]
  },
  {
   "cell_type": "code",
   "execution_count": 40,
   "id": "70037824",
   "metadata": {},
   "outputs": [],
   "source": [
    "df.drop(df.index[[1340,1467]],inplace=True)"
   ]
  },
  {
   "cell_type": "code",
   "execution_count": 41,
   "id": "d4fc1cae",
   "metadata": {},
   "outputs": [
    {
     "data": {
      "application/vnd.microsoft.datawrangler.viewer.v0+json": {
       "columns": [
        {
         "name": "index",
         "rawType": "int32",
         "type": "integer"
        },
        {
         "name": "company",
         "rawType": "object",
         "type": "string"
        },
        {
         "name": "title",
         "rawType": "object",
         "type": "string"
        },
        {
         "name": "category",
         "rawType": "object",
         "type": "string"
        },
        {
         "name": "total_exp",
         "rawType": "float64",
         "type": "float"
        },
        {
         "name": "local_exp",
         "rawType": "float64",
         "type": "float"
        },
        {
         "name": "salary",
         "rawType": "float64",
         "type": "float"
        },
        {
         "name": "signing_bonus",
         "rawType": "float64",
         "type": "float"
        },
        {
         "name": "annual_bonus",
         "rawType": "float64",
         "type": "float"
        }
       ],
       "conversionMethod": "pd.DataFrame",
       "ref": "c990d4a2-342b-4f96-9c5d-4496d5c24708",
       "rows": [
        [
         "1341",
         "cisco",
         "system engineer",
         "Engineering",
         "4.0",
         "4.0",
         "85000.0",
         "0.0",
         "10000.0"
        ],
        [
         "1469",
         "ibm",
         "network specialist",
         "Other",
         "25.0",
         "1.0",
         "117000.0",
         "10000.0",
         "0.0"
        ]
       ],
       "shape": {
        "columns": 8,
        "rows": 2
       }
      },
      "text/html": [
       "<div>\n",
       "<style scoped>\n",
       "    .dataframe tbody tr th:only-of-type {\n",
       "        vertical-align: middle;\n",
       "    }\n",
       "\n",
       "    .dataframe tbody tr th {\n",
       "        vertical-align: top;\n",
       "    }\n",
       "\n",
       "    .dataframe thead th {\n",
       "        text-align: right;\n",
       "    }\n",
       "</style>\n",
       "<table border=\"1\" class=\"dataframe\">\n",
       "  <thead>\n",
       "    <tr style=\"text-align: right;\">\n",
       "      <th></th>\n",
       "      <th>company</th>\n",
       "      <th>title</th>\n",
       "      <th>category</th>\n",
       "      <th>total_exp</th>\n",
       "      <th>local_exp</th>\n",
       "      <th>salary</th>\n",
       "      <th>signing_bonus</th>\n",
       "      <th>annual_bonus</th>\n",
       "    </tr>\n",
       "  </thead>\n",
       "  <tbody>\n",
       "    <tr>\n",
       "      <th>1341</th>\n",
       "      <td>cisco</td>\n",
       "      <td>system engineer</td>\n",
       "      <td>Engineering</td>\n",
       "      <td>4</td>\n",
       "      <td>4</td>\n",
       "      <td>85000</td>\n",
       "      <td>0</td>\n",
       "      <td>10000</td>\n",
       "    </tr>\n",
       "    <tr>\n",
       "      <th>1469</th>\n",
       "      <td>ibm</td>\n",
       "      <td>network specialist</td>\n",
       "      <td>Other</td>\n",
       "      <td>25</td>\n",
       "      <td>1</td>\n",
       "      <td>117000</td>\n",
       "      <td>10000</td>\n",
       "      <td>0</td>\n",
       "    </tr>\n",
       "  </tbody>\n",
       "</table>\n",
       "</div>"
      ],
      "text/plain": [
       "     company               title     category  total_exp  local_exp  salary  \\\n",
       "1341   cisco     system engineer  Engineering          4          4   85000   \n",
       "1469     ibm  network specialist        Other         25          1  117000   \n",
       "\n",
       "      signing_bonus  annual_bonus  \n",
       "1341              0         10000  \n",
       "1469          10000             0  "
      ]
     },
     "execution_count": 41,
     "metadata": {},
     "output_type": "execute_result"
    }
   ],
   "source": [
    "df.iloc[[1340,1467]]"
   ]
  },
  {
   "cell_type": "code",
   "execution_count": 45,
   "id": "8b9d88fd",
   "metadata": {},
   "outputs": [
    {
     "data": {
      "text/plain": [
       "<Axes: xlabel='total_exp', ylabel='local_exp'>"
      ]
     },
     "execution_count": 45,
     "metadata": {},
     "output_type": "execute_result"
    },
    {
     "data": {
      "image/png": "[encoded data removed]",
      "text/plain": [
       "<Figure size 640x480 with 1 Axes>"
      ]
     },
     "metadata": {},
     "output_type": "display_data"
    }
   ],
   "source": [
    "sns.scatterplot(data=df, x=\"total_exp\",y=\"local_exp\", hue=\"category\",palette=\"Set1\")\n"
   ]
  },
  {
   "cell_type": "markdown",
   "id": "9ead4d89",
   "metadata": {},
   "source": [
    "# Histograms"
   ]
  },
  {
   "cell_type": "code",
   "execution_count": 50,
   "id": "5a51f785",
   "metadata": {},
   "outputs": [
    {
     "data": {
      "image/png": "[encoded data removed]",
      "text/plain": [
       "<Figure size 640x480 with 1 Axes>"
      ]
     },
     "metadata": {},
     "output_type": "display_data"
    }
   ],
   "source": [
    "import matplotlib.pyplot as plt\n",
    "sns.histplot(data=df, x=\"salary\")\n",
    "plt.xscale(\"log\")"
   ]
  },
  {
   "cell_type": "code",
   "execution_count": 51,
   "id": "1f568f85",
   "metadata": {},
   "outputs": [
    {
     "data": {
      "text/plain": [
       "0.02061211742660837"
      ]
     },
     "execution_count": 51,
     "metadata": {},
     "output_type": "execute_result"
    }
   ],
   "source": [
    "\n",
    "len(df[df[\"salary\"]>500_000])/len(df)"
   ]
  },
  {
   "cell_type": "code",
   "execution_count": 53,
   "id": "f8abc2cc",
   "metadata": {},
   "outputs": [
    {
     "data": {
      "text/plain": [
       "(5000.0, 100000.0)"
      ]
     },
     "execution_count": 53,
     "metadata": {},
     "output_type": "execute_result"
    },
    {
     "data": {
      "image/png": "[encoded data removed]",
      "text/plain": [
       "<Figure size 640x480 with 1 Axes>"
      ]
     },
     "metadata": {},
     "output_type": "display_data"
    }
   ],
   "source": [
    "sns.histplot(data=df, x=\"salary\", kde=True)\n",
    "# 5000'den 100000'e\n",
    "plt.xlim(5000,100000)"
   ]
  },
  {
   "cell_type": "markdown",
   "id": "8d1780cd",
   "metadata": {},
   "source": [
    "Countplot"
   ]
  },
  {
   "cell_type": "code",
   "execution_count": 56,
   "id": "56c916e2",
   "metadata": {},
   "outputs": [
    {
     "data": {
      "text/plain": [
       "([0, 1, 2, 3, 4, 5, 6, 7],\n",
       " [Text(0, 0, 'Engineering'),\n",
       "  Text(1, 0, 'Software'),\n",
       "  Text(2, 0, 'Other'),\n",
       "  Text(3, 0, 'Web'),\n",
       "  Text(4, 0, 'Data'),\n",
       "  Text(5, 0, 'Management'),\n",
       "  Text(6, 0, 'Operations'),\n",
       "  Text(7, 0, 'Applied Science')])"
      ]
     },
     "execution_count": 56,
     "metadata": {},
     "output_type": "execute_result"
    },
    {
     "data": {
      "image/png": "[encoded data removed]",
      "text/plain": [
       "<Figure size 640x480 with 1 Axes>"
      ]
     },
     "metadata": {},
     "output_type": "display_data"
    }
   ],
   "source": [
    "sns.countplot(data=df, x=\"category\")\n",
    "plt.xticks(rotation=90)"
   ]
  },
  {
   "cell_type": "code",
   "execution_count": 57,
   "id": "775a5e5b",
   "metadata": {},
   "outputs": [
    {
     "data": {
      "text/plain": [
       "category\n",
       "Software           852\n",
       "Other              274\n",
       "Engineering        180\n",
       "Management         123\n",
       "Web                 87\n",
       "Data                71\n",
       "Operations           8\n",
       "Applied Science      6\n",
       "Name: count, dtype: int64"
      ]
     },
     "execution_count": 57,
     "metadata": {},
     "output_type": "execute_result"
    }
   ],
   "source": [
    "df.value_counts(\"category\")"
   ]
  },
  {
   "cell_type": "code",
   "execution_count": 60,
   "id": "29206433",
   "metadata": {},
   "outputs": [
    {
     "data": {
      "text/plain": [
       "(0.0, 900.0)"
      ]
     },
     "execution_count": 60,
     "metadata": {},
     "output_type": "execute_result"
    },
    {
     "data": {
      "image/png": "[encoded data removed]",
      "text/plain": [
       "<Figure size 1000x600 with 1 Axes>"
      ]
     },
     "metadata": {},
     "output_type": "display_data"
    }
   ],
   "source": [
    "plt.figure(figsize=(10,6),dpi=100)\n",
    "ax=sns.countplot(data=df, x=\"category\")\n",
    "\n",
    "for p in ax.patches:\n",
    "       ax.annotate('{:.0f}'.format(p.get_height()), (p.get_x()+0.20, p.get_height()+16), size=16)\n",
    "plt.xticks(rotation=90)\n",
    "plt.ylim(0,900)"
   ]
  },
  {
   "cell_type": "markdown",
   "id": "04858ea0",
   "metadata": {},
   "source": [
    "## KDE Plot"
   ]
  },
  {
   "cell_type": "code",
   "execution_count": 62,
   "id": "fa3ccf51",
   "metadata": {},
   "outputs": [
    {
     "data": {
      "text/plain": [
       "<Axes: xlabel='local_exp', ylabel='Density'>"
      ]
     },
     "execution_count": 62,
     "metadata": {},
     "output_type": "execute_result"
    },
    {
     "data": {
      "image/png": "[encoded data removed]",
      "text/plain": [
       "<Figure size 640x480 with 1 Axes>"
      ]
     },
     "metadata": {},
     "output_type": "display_data"
    }
   ],
   "source": [
    "sns.kdeplot(data=df, x=\"local_exp\")"
   ]
  },
  {
   "cell_type": "code",
   "execution_count": 63,
   "id": "2f10e28a",
   "metadata": {},
   "outputs": [
    {
     "data": {
      "text/plain": [
       "<Axes: xlabel='local_exp', ylabel='Density'>"
      ]
     },
     "execution_count": 63,
     "metadata": {},
     "output_type": "execute_result"
    },
    {
     "data": {
      "image/png": "[encoded data removed]",
      "text/plain": [
       "<Figure size 640x480 with 1 Axes>"
      ]
     },
     "metadata": {},
     "output_type": "display_data"
    }
   ],
   "source": [
    "sns.kdeplot(data=df, x=\"local_exp\",clip=[0,5],fill=True,color=\"purple\")\n",
    "sns.kdeplot(data=df, x=\"local_exp\",fill=True,color=\"purple\")"
   ]
  },
  {
   "cell_type": "markdown",
   "id": "a339f399",
   "metadata": {},
   "source": [
    "## Box & Violin Plots"
   ]
  },
  {
   "cell_type": "code",
   "execution_count": 67,
   "id": "8d2cd784",
   "metadata": {},
   "outputs": [
    {
     "data": {
      "image/png": "[encoded data removed]",
      "text/plain": [
       "<Figure size 640x480 with 1 Axes>"
      ]
     },
     "metadata": {},
     "output_type": "display_data"
    }
   ],
   "source": [
    "sns.boxplot(data=df[df[\"salary\"]>500000], x=\"category\", y=\"salary\")\n",
    "plt.xticks(rotation=90);"
   ]
  },
  {
   "cell_type": "code",
   "execution_count": 68,
   "id": "a6af2aa2",
   "metadata": {},
   "outputs": [
    {
     "name": "stderr",
     "output_type": "stream",
     "text": [
      "C:\\Users\\mustafa\\AppData\\Local\\Temp\\ipykernel_28052\\1068327529.py:1: FutureWarning: \n",
      "\n",
      "The `bw` parameter is deprecated in favor of `bw_method`/`bw_adjust`.\n",
      "Setting `bw_method=0.3`, but please see docs for the new parameters\n",
      "and update your code. This will become an error in seaborn v0.15.0.\n",
      "\n",
      "  sns.violinplot(data=df, x=\"category\",y=\"salary\",bw=0.3)\n"
     ]
    },
    {
     "data": {
      "text/plain": [
       "<Axes: xlabel='category', ylabel='salary'>"
      ]
     },
     "execution_count": 68,
     "metadata": {},
     "output_type": "execute_result"
    },
    {
     "data": {
      "image/png": "[encoded data removed]",
      "text/plain": [
       "<Figure size 640x480 with 1 Axes>"
      ]
     },
     "metadata": {},
     "output_type": "display_data"
    }
   ],
   "source": [
    "sns.violinplot(data=df, x=\"category\",y=\"salary\",bw=0.3)"
   ]
  },
  {
   "cell_type": "code",
   "execution_count": 69,
   "id": "99b54cd7",
   "metadata": {},
   "outputs": [
    {
     "data": {
      "text/plain": [
       "<Axes: xlabel='category', ylabel='salary'>"
      ]
     },
     "execution_count": 69,
     "metadata": {},
     "output_type": "execute_result"
    },
    {
     "data": {
      "image/png": "[encoded data removed]",
      "text/plain": [
       "<Figure size 640x480 with 1 Axes>"
      ]
     },
     "metadata": {},
     "output_type": "display_data"
    }
   ],
   "source": [
    "sns.violinplot(data=df[df[\"salary\"]>500000], x=\"category\", y=\"salary\")\n"
   ]
  },
  {
   "cell_type": "code",
   "execution_count": null,
   "id": "816a8cdd",
   "metadata": {},
   "outputs": [],
   "source": []
  }
 ],
 "metadata": {
  "kernelspec": {
   "display_name": "base",
   "language": "python",
   "name": "python3"
  },
  "language_info": {
   "codemirror_mode": {
    "name": "ipython",
    "version": 3
   },
   "file_extension": ".py",
   "mimetype": "text/x-python",
   "name": "python",
   "nbconvert_exporter": "python",
   "pygments_lexer": "ipython3",
   "version": "3.12.7"
  }
 },
 "nbformat": 4,
 "nbformat_minor": 5
}
