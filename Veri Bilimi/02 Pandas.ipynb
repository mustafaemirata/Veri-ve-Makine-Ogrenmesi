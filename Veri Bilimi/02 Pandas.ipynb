{
 "cells": [
  {
   "cell_type": "markdown",
   "id": "de70d560",
   "metadata": {
    "vscode": {
     "languageId": "plaintext"
    }
   },
   "source": [
    "# Pandas"
   ]
  },
  {
   "cell_type": "code",
   "execution_count": 1,
   "id": "c3a4cd06",
   "metadata": {},
   "outputs": [],
   "source": [
    "import pandas as pd\n",
    "import numpy as np\n",
    "\n"
   ]
  },
  {
   "cell_type": "markdown",
   "id": "6d14f181",
   "metadata": {},
   "source": [
    "# Pandas Serileri"
   ]
  },
  {
   "cell_type": "code",
   "execution_count": 3,
   "id": "1543c018",
   "metadata": {},
   "outputs": [],
   "source": [
    "data=[1923,1868,1922]"
   ]
  },
  {
   "cell_type": "code",
   "execution_count": 4,
   "id": "bcd9c659",
   "metadata": {},
   "outputs": [],
   "source": [
    "index=[\"Türkiye\",\"Japonya\",\"SSCB\"]"
   ]
  },
  {
   "cell_type": "code",
   "execution_count": 5,
   "id": "4274364a",
   "metadata": {},
   "outputs": [
    {
     "data": {
      "text/plain": [
       "0    1923\n",
       "1    1868\n",
       "2    1922\n",
       "dtype: int64"
      ]
     },
     "execution_count": 5,
     "metadata": {},
     "output_type": "execute_result"
    }
   ],
   "source": [
    "seri=pd.Series(data=data)\n",
    "seri"
   ]
  },
  {
   "cell_type": "code",
   "execution_count": 6,
   "id": "cf100afd",
   "metadata": {},
   "outputs": [
    {
     "data": {
      "text/plain": [
       "Türkiye    1923\n",
       "Japonya    1868\n",
       "SSCB       1922\n",
       "dtype: int64"
      ]
     },
     "execution_count": 6,
     "metadata": {},
     "output_type": "execute_result"
    }
   ],
   "source": [
    "pd.Series(data=data,index=index)"
   ]
  },
  {
   "cell_type": "code",
   "execution_count": 7,
   "id": "a218d3b4",
   "metadata": {},
   "outputs": [],
   "source": [
    "countires=pd.Series(data,index)"
   ]
  },
  {
   "cell_type": "code",
   "execution_count": 12,
   "id": "3037848a",
   "metadata": {},
   "outputs": [
    {
     "data": {
      "text/plain": [
       "Türkiye    1923\n",
       "Japonya    1868\n",
       "SSCB       1922\n",
       "dtype: int64"
      ]
     },
     "execution_count": 12,
     "metadata": {},
     "output_type": "execute_result"
    }
   ],
   "source": [
    "countires"
   ]
  },
  {
   "cell_type": "code",
   "execution_count": null,
   "id": "b694090d",
   "metadata": {},
   "outputs": [],
   "source": []
  },
  {
   "cell_type": "markdown",
   "id": "b153d789",
   "metadata": {},
   "source": [
    "# Dict ile"
   ]
  },
  {
   "cell_type": "code",
   "execution_count": 9,
   "id": "56fa74e8",
   "metadata": {},
   "outputs": [],
   "source": [
    "countries={\n",
    "    \"Türkiye\":1923,\n",
    "    \"Japonya\":1968,\n",
    "    \"SSCB\":1922\n",
    "}"
   ]
  },
  {
   "cell_type": "code",
   "execution_count": 10,
   "id": "1eb278c2",
   "metadata": {},
   "outputs": [
    {
     "data": {
      "text/plain": [
       "{'Türkiye': 1923, 'Japonya': 1968, 'SSCB': 1922}"
      ]
     },
     "execution_count": 10,
     "metadata": {},
     "output_type": "execute_result"
    }
   ],
   "source": [
    "countries"
   ]
  },
  {
   "cell_type": "code",
   "execution_count": 11,
   "id": "900d639c",
   "metadata": {},
   "outputs": [
    {
     "data": {
      "text/plain": [
       "dict"
      ]
     },
     "execution_count": 11,
     "metadata": {},
     "output_type": "execute_result"
    }
   ],
   "source": [
    "type(countries)"
   ]
  },
  {
   "cell_type": "code",
   "execution_count": 13,
   "id": "4e2970ec",
   "metadata": {},
   "outputs": [
    {
     "data": {
      "text/plain": [
       "Türkiye    1923\n",
       "Japonya    1968\n",
       "SSCB       1922\n",
       "dtype: int64"
      ]
     },
     "execution_count": 13,
     "metadata": {},
     "output_type": "execute_result"
    }
   ],
   "source": [
    "pd.Series(countries)"
   ]
  },
  {
   "cell_type": "code",
   "execution_count": 14,
   "id": "c6de98c0",
   "metadata": {},
   "outputs": [
    {
     "data": {
      "text/plain": [
       "dict"
      ]
     },
     "execution_count": 14,
     "metadata": {},
     "output_type": "execute_result"
    }
   ],
   "source": [
    "type(countries)"
   ]
  },
  {
   "cell_type": "code",
   "execution_count": 15,
   "id": "ca04d72b",
   "metadata": {},
   "outputs": [
    {
     "data": {
      "text/plain": [
       "{'Türkiye': 1923, 'Japonya': 1968, 'SSCB': 1922}"
      ]
     },
     "execution_count": 15,
     "metadata": {},
     "output_type": "execute_result"
    }
   ],
   "source": [
    "countries"
   ]
  },
  {
   "cell_type": "code",
   "execution_count": 16,
   "id": "d25f1efc",
   "metadata": {},
   "outputs": [],
   "source": [
    "countries=pd.Series(countries)"
   ]
  },
  {
   "cell_type": "code",
   "execution_count": 17,
   "id": "e9f3074a",
   "metadata": {},
   "outputs": [
    {
     "data": {
      "text/plain": [
       "pandas.core.series.Series"
      ]
     },
     "execution_count": 17,
     "metadata": {},
     "output_type": "execute_result"
    }
   ],
   "source": [
    "type(countries)"
   ]
  },
  {
   "cell_type": "code",
   "execution_count": 18,
   "id": "925dbbc4",
   "metadata": {},
   "outputs": [
    {
     "name": "stderr",
     "output_type": "stream",
     "text": [
      "C:\\Users\\mustafa\\AppData\\Local\\Temp\\ipykernel_20688\\315654508.py:1: FutureWarning: Series.__getitem__ treating keys as positions is deprecated. In a future version, integer keys will always be treated as labels (consistent with DataFrame behavior). To access a value by position, use `ser.iloc[pos]`\n",
      "  countries[2]\n"
     ]
    },
    {
     "data": {
      "text/plain": [
       "1922"
      ]
     },
     "execution_count": 18,
     "metadata": {},
     "output_type": "execute_result"
    }
   ],
   "source": [
    "countries[2]"
   ]
  },
  {
   "cell_type": "code",
   "execution_count": 19,
   "id": "71285550",
   "metadata": {},
   "outputs": [
    {
     "data": {
      "text/plain": [
       "1968"
      ]
     },
     "execution_count": 19,
     "metadata": {},
     "output_type": "execute_result"
    }
   ],
   "source": [
    "countries[\"Japonya\"]"
   ]
  },
  {
   "cell_type": "code",
   "execution_count": 20,
   "id": "bf4f57a6",
   "metadata": {},
   "outputs": [
    {
     "name": "stderr",
     "output_type": "stream",
     "text": [
      "C:\\Users\\mustafa\\AppData\\Local\\Temp\\ipykernel_20688\\315654508.py:1: FutureWarning: Series.__getitem__ treating keys as positions is deprecated. In a future version, integer keys will always be treated as labels (consistent with DataFrame behavior). To access a value by position, use `ser.iloc[pos]`\n",
      "  countries[2]\n"
     ]
    },
    {
     "data": {
      "text/plain": [
       "1922"
      ]
     },
     "execution_count": 20,
     "metadata": {},
     "output_type": "execute_result"
    }
   ],
   "source": [
    "countries[2]"
   ]
  },
  {
   "cell_type": "code",
   "execution_count": 21,
   "id": "c3c576e4",
   "metadata": {},
   "outputs": [
    {
     "data": {
      "text/plain": [
       "Türkiye    1923\n",
       "Japonya    1968\n",
       "SSCB       1922\n",
       "dtype: int64"
      ]
     },
     "execution_count": 21,
     "metadata": {},
     "output_type": "execute_result"
    }
   ],
   "source": [
    "countries"
   ]
  },
  {
   "cell_type": "code",
   "execution_count": null,
   "id": "59600c65",
   "metadata": {},
   "outputs": [
    {
     "data": {
      "text/plain": [
       "Türkiye    2023\n",
       "Japonya    2068\n",
       "SSCB       2022\n",
       "dtype: int64"
      ]
     },
     "execution_count": 22,
     "metadata": {},
     "output_type": "execute_result"
    }
   ],
   "source": [
    "countries+100 #her değeri 100 arttıır."
   ]
  },
  {
   "cell_type": "code",
   "execution_count": 23,
   "id": "577a72f6",
   "metadata": {},
   "outputs": [
    {
     "data": {
      "text/plain": [
       "Index(['Türkiye', 'Japonya', 'SSCB'], dtype='object')"
      ]
     },
     "execution_count": 23,
     "metadata": {},
     "output_type": "execute_result"
    }
   ],
   "source": [
    "countries.keys()"
   ]
  },
  {
   "cell_type": "code",
   "execution_count": 26,
   "id": "bafb0ab4",
   "metadata": {},
   "outputs": [
    {
     "data": {
      "text/plain": [
       "array([1923, 1968, 1922], dtype=int64)"
      ]
     },
     "execution_count": 26,
     "metadata": {},
     "output_type": "execute_result"
    }
   ],
   "source": [
    "countries.values"
   ]
  },
  {
   "cell_type": "code",
   "execution_count": 30,
   "id": "7ab69f21",
   "metadata": {},
   "outputs": [],
   "source": [
    "countries_2={\n",
    "    \"Türkiye\":100,\n",
    "    \"Almanya\":1071,\n",
    "    \"Japonya\": -2528,\n",
    "    \"ABD\":1776\n",
    "}"
   ]
  },
  {
   "cell_type": "code",
   "execution_count": 31,
   "id": "ce314b22",
   "metadata": {},
   "outputs": [],
   "source": [
    "countries_2=pd.Series(countries_2)"
   ]
  },
  {
   "cell_type": "code",
   "execution_count": 32,
   "id": "d4e7d0da",
   "metadata": {},
   "outputs": [
    {
     "data": {
      "text/plain": [
       "Türkiye     100\n",
       "Almanya    1071\n",
       "Japonya   -2528\n",
       "ABD        1776\n",
       "dtype: int64"
      ]
     },
     "execution_count": 32,
     "metadata": {},
     "output_type": "execute_result"
    }
   ],
   "source": [
    "countries_2"
   ]
  },
  {
   "cell_type": "code",
   "execution_count": 33,
   "id": "d9a05ef2",
   "metadata": {},
   "outputs": [
    {
     "data": {
      "text/plain": [
       "ABD           NaN\n",
       "Almanya       NaN\n",
       "Japonya    -660.0\n",
       "SSCB          NaN\n",
       "Türkiye    2023.0\n",
       "dtype: float64"
      ]
     },
     "execution_count": 33,
     "metadata": {},
     "output_type": "execute_result"
    }
   ],
   "source": [
    "countries_2+countires"
   ]
  },
  {
   "cell_type": "code",
   "execution_count": 34,
   "id": "573d0ee8",
   "metadata": {},
   "outputs": [
    {
     "data": {
      "text/plain": [
       "ABD        1776.0\n",
       "Almanya    1071.0\n",
       "Japonya    -660.0\n",
       "SSCB       1922.0\n",
       "Türkiye    2023.0\n",
       "dtype: float64"
      ]
     },
     "execution_count": 34,
     "metadata": {},
     "output_type": "execute_result"
    }
   ],
   "source": [
    "countries_2.add(countires,fill_value=0)"
   ]
  },
  {
   "cell_type": "markdown",
   "id": "75505fc2",
   "metadata": {},
   "source": [
    "# Dataframes"
   ]
  },
  {
   "cell_type": "code",
   "execution_count": 38,
   "id": "d06c1a2c",
   "metadata": {},
   "outputs": [
    {
     "data": {
      "text/plain": [
       "array([[28, 22,  1, 22],\n",
       "       [40, 49, 27, 33],\n",
       "       [29, 28,  0, 46],\n",
       "       [24, 10, 29, 42],\n",
       "       [12, 18, 22,  1]])"
      ]
     },
     "execution_count": 38,
     "metadata": {},
     "output_type": "execute_result"
    }
   ],
   "source": [
    "np.random.seed(9)\n",
    "sayi=np.random.randint(0,50, (5,4))\n",
    "sayi"
   ]
  },
  {
   "cell_type": "code",
   "execution_count": 37,
   "id": "badc4cdf",
   "metadata": {},
   "outputs": [],
   "source": [
    "akdeniz=[\"Isparta\",\"Antalya\",\"Konya\",\"Maraş\",\"Adana\"]\n",
    "\n",
    "mevsim=[\"Bahar\",\"Yaz\",\"Kış\",\"Güz\"]"
   ]
  },
  {
   "cell_type": "code",
   "execution_count": 39,
   "id": "e34af8d8",
   "metadata": {},
   "outputs": [
    {
     "data": {
      "text/html": [
       "<div>\n",
       "<style scoped>\n",
       "    .dataframe tbody tr th:only-of-type {\n",
       "        vertical-align: middle;\n",
       "    }\n",
       "\n",
       "    .dataframe tbody tr th {\n",
       "        vertical-align: top;\n",
       "    }\n",
       "\n",
       "    .dataframe thead th {\n",
       "        text-align: right;\n",
       "    }\n",
       "</style>\n",
       "<table border=\"1\" class=\"dataframe\">\n",
       "  <thead>\n",
       "    <tr style=\"text-align: right;\">\n",
       "      <th></th>\n",
       "      <th>0</th>\n",
       "      <th>1</th>\n",
       "      <th>2</th>\n",
       "      <th>3</th>\n",
       "    </tr>\n",
       "  </thead>\n",
       "  <tbody>\n",
       "    <tr>\n",
       "      <th>0</th>\n",
       "      <td>28</td>\n",
       "      <td>22</td>\n",
       "      <td>1</td>\n",
       "      <td>22</td>\n",
       "    </tr>\n",
       "    <tr>\n",
       "      <th>1</th>\n",
       "      <td>40</td>\n",
       "      <td>49</td>\n",
       "      <td>27</td>\n",
       "      <td>33</td>\n",
       "    </tr>\n",
       "    <tr>\n",
       "      <th>2</th>\n",
       "      <td>29</td>\n",
       "      <td>28</td>\n",
       "      <td>0</td>\n",
       "      <td>46</td>\n",
       "    </tr>\n",
       "    <tr>\n",
       "      <th>3</th>\n",
       "      <td>24</td>\n",
       "      <td>10</td>\n",
       "      <td>29</td>\n",
       "      <td>42</td>\n",
       "    </tr>\n",
       "    <tr>\n",
       "      <th>4</th>\n",
       "      <td>12</td>\n",
       "      <td>18</td>\n",
       "      <td>22</td>\n",
       "      <td>1</td>\n",
       "    </tr>\n",
       "  </tbody>\n",
       "</table>\n",
       "</div>"
      ],
      "text/plain": [
       "    0   1   2   3\n",
       "0  28  22   1  22\n",
       "1  40  49  27  33\n",
       "2  29  28   0  46\n",
       "3  24  10  29  42\n",
       "4  12  18  22   1"
      ]
     },
     "execution_count": 39,
     "metadata": {},
     "output_type": "execute_result"
    }
   ],
   "source": [
    "pd.DataFrame(data=sayi)"
   ]
  },
  {
   "cell_type": "code",
   "execution_count": 40,
   "id": "c63329f9",
   "metadata": {},
   "outputs": [
    {
     "data": {
      "text/plain": [
       "numpy.ndarray"
      ]
     },
     "execution_count": 40,
     "metadata": {},
     "output_type": "execute_result"
    }
   ],
   "source": [
    "type(sayi)"
   ]
  },
  {
   "cell_type": "code",
   "execution_count": 41,
   "id": "0c317dae",
   "metadata": {},
   "outputs": [],
   "source": [
    "df=pd.DataFrame(data=sayi)"
   ]
  },
  {
   "cell_type": "code",
   "execution_count": 42,
   "id": "7439b729",
   "metadata": {},
   "outputs": [
    {
     "data": {
      "text/plain": [
       "pandas.core.frame.DataFrame"
      ]
     },
     "execution_count": 42,
     "metadata": {},
     "output_type": "execute_result"
    }
   ],
   "source": [
    "type(df)"
   ]
  },
  {
   "cell_type": "code",
   "execution_count": 43,
   "id": "665b0ef6",
   "metadata": {},
   "outputs": [
    {
     "data": {
      "text/html": [
       "<div>\n",
       "<style scoped>\n",
       "    .dataframe tbody tr th:only-of-type {\n",
       "        vertical-align: middle;\n",
       "    }\n",
       "\n",
       "    .dataframe tbody tr th {\n",
       "        vertical-align: top;\n",
       "    }\n",
       "\n",
       "    .dataframe thead th {\n",
       "        text-align: right;\n",
       "    }\n",
       "</style>\n",
       "<table border=\"1\" class=\"dataframe\">\n",
       "  <thead>\n",
       "    <tr style=\"text-align: right;\">\n",
       "      <th></th>\n",
       "      <th>Bahar</th>\n",
       "      <th>Yaz</th>\n",
       "      <th>Kış</th>\n",
       "      <th>Güz</th>\n",
       "    </tr>\n",
       "  </thead>\n",
       "  <tbody>\n",
       "    <tr>\n",
       "      <th>Isparta</th>\n",
       "      <td>28</td>\n",
       "      <td>22</td>\n",
       "      <td>1</td>\n",
       "      <td>22</td>\n",
       "    </tr>\n",
       "    <tr>\n",
       "      <th>Antalya</th>\n",
       "      <td>40</td>\n",
       "      <td>49</td>\n",
       "      <td>27</td>\n",
       "      <td>33</td>\n",
       "    </tr>\n",
       "    <tr>\n",
       "      <th>Konya</th>\n",
       "      <td>29</td>\n",
       "      <td>28</td>\n",
       "      <td>0</td>\n",
       "      <td>46</td>\n",
       "    </tr>\n",
       "    <tr>\n",
       "      <th>Maraş</th>\n",
       "      <td>24</td>\n",
       "      <td>10</td>\n",
       "      <td>29</td>\n",
       "      <td>42</td>\n",
       "    </tr>\n",
       "    <tr>\n",
       "      <th>Adana</th>\n",
       "      <td>12</td>\n",
       "      <td>18</td>\n",
       "      <td>22</td>\n",
       "      <td>1</td>\n",
       "    </tr>\n",
       "  </tbody>\n",
       "</table>\n",
       "</div>"
      ],
      "text/plain": [
       "         Bahar  Yaz  Kış  Güz\n",
       "Isparta     28   22    1   22\n",
       "Antalya     40   49   27   33\n",
       "Konya       29   28    0   46\n",
       "Maraş       24   10   29   42\n",
       "Adana       12   18   22    1"
      ]
     },
     "execution_count": 43,
     "metadata": {},
     "output_type": "execute_result"
    }
   ],
   "source": [
    "df=pd.DataFrame(data=sayi,index=akdeniz,columns=mevsim)\n",
    "df"
   ]
  },
  {
   "cell_type": "code",
   "execution_count": 44,
   "id": "52b51e1a",
   "metadata": {},
   "outputs": [
    {
     "data": {
      "text/plain": [
       "<bound method DataFrame.info of          Bahar  Yaz  Kış  Güz\n",
       "Isparta     28   22    1   22\n",
       "Antalya     40   49   27   33\n",
       "Konya       29   28    0   46\n",
       "Maraş       24   10   29   42\n",
       "Adana       12   18   22    1>"
      ]
     },
     "execution_count": 44,
     "metadata": {},
     "output_type": "execute_result"
    }
   ],
   "source": [
    "df.info"
   ]
  },
  {
   "cell_type": "code",
   "execution_count": 45,
   "id": "4008c689",
   "metadata": {},
   "outputs": [
    {
     "name": "stdout",
     "output_type": "stream",
     "text": [
      "<class 'pandas.core.frame.DataFrame'>\n",
      "Index: 5 entries, Isparta to Adana\n",
      "Data columns (total 4 columns):\n",
      " #   Column  Non-Null Count  Dtype\n",
      "---  ------  --------------  -----\n",
      " 0   Bahar   5 non-null      int32\n",
      " 1   Yaz     5 non-null      int32\n",
      " 2   Kış     5 non-null      int32\n",
      " 3   Güz     5 non-null      int32\n",
      "dtypes: int32(4)\n",
      "memory usage: 292.0+ bytes\n"
     ]
    }
   ],
   "source": [
    "df.info()"
   ]
  },
  {
   "cell_type": "code",
   "execution_count": 46,
   "id": "ecb47a57",
   "metadata": {},
   "outputs": [
    {
     "data": {
      "text/html": [
       "<div>\n",
       "<style scoped>\n",
       "    .dataframe tbody tr th:only-of-type {\n",
       "        vertical-align: middle;\n",
       "    }\n",
       "\n",
       "    .dataframe tbody tr th {\n",
       "        vertical-align: top;\n",
       "    }\n",
       "\n",
       "    .dataframe thead th {\n",
       "        text-align: right;\n",
       "    }\n",
       "</style>\n",
       "<table border=\"1\" class=\"dataframe\">\n",
       "  <thead>\n",
       "    <tr style=\"text-align: right;\">\n",
       "      <th></th>\n",
       "      <th>Bahar</th>\n",
       "      <th>Yaz</th>\n",
       "      <th>Kış</th>\n",
       "      <th>Güz</th>\n",
       "    </tr>\n",
       "  </thead>\n",
       "  <tbody>\n",
       "    <tr>\n",
       "      <th>count</th>\n",
       "      <td>5.000000</td>\n",
       "      <td>5.00000</td>\n",
       "      <td>5.000000</td>\n",
       "      <td>5.000000</td>\n",
       "    </tr>\n",
       "    <tr>\n",
       "      <th>mean</th>\n",
       "      <td>26.600000</td>\n",
       "      <td>25.40000</td>\n",
       "      <td>15.800000</td>\n",
       "      <td>28.800000</td>\n",
       "    </tr>\n",
       "    <tr>\n",
       "      <th>std</th>\n",
       "      <td>10.089599</td>\n",
       "      <td>14.72413</td>\n",
       "      <td>14.202113</td>\n",
       "      <td>18.074844</td>\n",
       "    </tr>\n",
       "    <tr>\n",
       "      <th>min</th>\n",
       "      <td>12.000000</td>\n",
       "      <td>10.00000</td>\n",
       "      <td>0.000000</td>\n",
       "      <td>1.000000</td>\n",
       "    </tr>\n",
       "    <tr>\n",
       "      <th>25%</th>\n",
       "      <td>24.000000</td>\n",
       "      <td>18.00000</td>\n",
       "      <td>1.000000</td>\n",
       "      <td>22.000000</td>\n",
       "    </tr>\n",
       "    <tr>\n",
       "      <th>50%</th>\n",
       "      <td>28.000000</td>\n",
       "      <td>22.00000</td>\n",
       "      <td>22.000000</td>\n",
       "      <td>33.000000</td>\n",
       "    </tr>\n",
       "    <tr>\n",
       "      <th>75%</th>\n",
       "      <td>29.000000</td>\n",
       "      <td>28.00000</td>\n",
       "      <td>27.000000</td>\n",
       "      <td>42.000000</td>\n",
       "    </tr>\n",
       "    <tr>\n",
       "      <th>max</th>\n",
       "      <td>40.000000</td>\n",
       "      <td>49.00000</td>\n",
       "      <td>29.000000</td>\n",
       "      <td>46.000000</td>\n",
       "    </tr>\n",
       "  </tbody>\n",
       "</table>\n",
       "</div>"
      ],
      "text/plain": [
       "           Bahar       Yaz        Kış        Güz\n",
       "count   5.000000   5.00000   5.000000   5.000000\n",
       "mean   26.600000  25.40000  15.800000  28.800000\n",
       "std    10.089599  14.72413  14.202113  18.074844\n",
       "min    12.000000  10.00000   0.000000   1.000000\n",
       "25%    24.000000  18.00000   1.000000  22.000000\n",
       "50%    28.000000  22.00000  22.000000  33.000000\n",
       "75%    29.000000  28.00000  27.000000  42.000000\n",
       "max    40.000000  49.00000  29.000000  46.000000"
      ]
     },
     "execution_count": 46,
     "metadata": {},
     "output_type": "execute_result"
    }
   ],
   "source": [
    "df.describe()"
   ]
  },
  {
   "cell_type": "code",
   "execution_count": null,
   "id": "05619bc7",
   "metadata": {},
   "outputs": [],
   "source": []
  }
 ],
 "metadata": {
  "kernelspec": {
   "display_name": "base",
   "language": "python",
   "name": "python3"
  },
  "language_info": {
   "codemirror_mode": {
    "name": "ipython",
    "version": 3
   },
   "file_extension": ".py",
   "mimetype": "text/x-python",
   "name": "python",
   "nbconvert_exporter": "python",
   "pygments_lexer": "ipython3",
   "version": "3.12.7"
  }
 },
 "nbformat": 4,
 "nbformat_minor": 5
}
